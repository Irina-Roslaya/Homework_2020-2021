{
 "cells": [
  {
   "cell_type": "code",
   "execution_count": 1,
   "metadata": {},
   "outputs": [
    {
     "name": "stdout",
     "output_type": "stream",
     "text": [
      "[1, 1, 1, 1, 2, 2, 1, 1, 1, 3, 3, 3, 3]\n",
      "[1, 1, 1, 1, 2, 2, 1, 1, 1, 3, 3, 3, 3]\n",
      "True\n"
     ]
    }
   ],
   "source": [
    "class CompressedList(list):\n",
    "    def __iter__(self):\n",
    "        return ComressedListIterator(self)\n",
    "\n",
    "class ComressedListIterator:\n",
    "    def __init__(self, arr):\n",
    "        self.arr = arr\n",
    "        self.counter = 0\n",
    "        self.index = 0\n",
    "  \n",
    "    def __next__(self):\n",
    "        if self.index >=len(self.arr):\n",
    "            raise StopIteration\n",
    "        if self.counter < self.arr[self.index][1]:\n",
    "            self.counter+=1\n",
    "            return self.arr[self.index][0]\n",
    "        else:\n",
    "            self.counter=0\n",
    "            self.index+=1\n",
    "original = [1, 1, 1, 1, 2, 2, 1, 1, 1, 3, 3, 3, 3]\n",
    "compressed = CompressedList([(1, 4), (2, 2), (1, 3), (3, 4)])\n",
    "\n",
    "decompressed = [x for x in compressed if x is not None]\n",
    "\n",
    "print(original)\n",
    "print(decompressed)\n",
    "print(original == decompressed)       "
   ]
  },
  {
   "cell_type": "markdown",
   "metadata": {},
   "source": [
    "Задание номер 2"
   ]
  },
  {
   "cell_type": "code",
   "execution_count": 2,
   "metadata": {},
   "outputs": [],
   "source": [
    "def ArithProgress(start, differ, stop):\n",
    "    count = start\n",
    "    while count < stop:\n",
    "        yield start\n",
    "        start+=differ\n",
    "        count+=differ"
   ]
  },
  {
   "cell_type": "code",
   "execution_count": 3,
   "metadata": {},
   "outputs": [
    {
     "data": {
      "text/plain": [
       "[0, 1, 2]"
      ]
     },
     "execution_count": 3,
     "metadata": {},
     "output_type": "execute_result"
    }
   ],
   "source": [
    "list(ArithProgress(0, 1, 3))"
   ]
  },
  {
   "cell_type": "code",
   "execution_count": 4,
   "metadata": {},
   "outputs": [
    {
     "data": {
      "text/plain": [
       "[1, 1.5, 2.0, 2.5]"
      ]
     },
     "execution_count": 4,
     "metadata": {},
     "output_type": "execute_result"
    }
   ],
   "source": [
    "list(ArithProgress(1, .5, 3))"
   ]
  },
  {
   "cell_type": "markdown",
   "metadata": {},
   "source": [
    "Задание номер 3 (попытки)"
   ]
  },
  {
   "cell_type": "code",
   "execution_count": 25,
   "metadata": {},
   "outputs": [],
   "source": [
    "class CompressedList(list):\n",
    "    def __iter__(self):\n",
    "        return ComressedListIterator(self)\n",
    "\n",
    "class ComressedListIterator:\n",
    "    def __init__(self, arr):\n",
    "        self.arr = arr\n",
    "        self.counter = 0\n",
    "        self.index = 0\n",
    "  \n",
    "    def __next__(self):\n",
    "        while self.index < len(self.arr):\n",
    "            if self.counter < self.arr[self.index][1]:\n",
    "                self.counter+=1\n",
    "                yield self.arr[self.index][0]\n",
    "            else:\n",
    "                self.counter=0 \n",
    "                self.index+=1\n",
    "original = [1, 1, 1, 1, 2, 2, 1, 1, 1, 3, 3, 3, 3]\n",
    "compressed = CompressedList([(1, 4), (2, 2), (1, 3), (3, 4)])\n",
    "\n",
    "decompressed = [x for x in compressed if x is not None]\n",
    "\n",
    "print(original)\n",
    "print(decompressed)\n",
    "print(original == decompressed)      "
   ]
  },
  {
   "cell_type": "code",
   "execution_count": null,
   "metadata": {},
   "outputs": [],
   "source": []
  }
 ],
 "metadata": {
  "kernelspec": {
   "display_name": "Python 3",
   "language": "python",
   "name": "python3"
  },
  "language_info": {
   "codemirror_mode": {
    "name": "ipython",
    "version": 3
   },
   "file_extension": ".py",
   "mimetype": "text/x-python",
   "name": "python",
   "nbconvert_exporter": "python",
   "pygments_lexer": "ipython3",
   "version": "3.7.4"
  }
 },
 "nbformat": 4,
 "nbformat_minor": 4
}
