{
 "cells": [
  {
   "cell_type": "markdown",
   "metadata": {},
   "source": [
    "__Задание 1__\n",
    "\n",
    "С помощью модуля trace создайте отчет о работе любой функции, сохраните этот отчет в формате txt, при этом подсчет числа линий и выполнение линий трассировки должны быть включены."
   ]
  },
  {
   "cell_type": "code",
   "execution_count": 15,
   "metadata": {},
   "outputs": [],
   "source": [
    "def recurse(level):\n",
    "    print('recurse({})'.format(level))\n",
    "    if level:\n",
    "        recurse(level - 1)"
   ]
  },
  {
   "cell_type": "code",
   "execution_count": 18,
   "metadata": {},
   "outputs": [
    {
     "name": "stdout",
     "output_type": "stream",
     "text": [
      " --- modulename: iostream, funcname: write\n",
      "iostream.py(385):         if self.echo is not None:\n",
      "iostream.py(393):         if self.pub_thread is None:\n",
      "iostream.py(397):             if not isinstance(string, unicode_type):\n",
      "iostream.py(400):             is_child = (not self._is_master_process())\n",
      " --- modulename: iostream, funcname: _is_master_process\n",
      "iostream.py(310):         return os.getpid() == self._master_pid\n",
      "iostream.py(402):             self.pub_thread.schedule(lambda : self._buffer.write(string))\n",
      " --- modulename: iostream, funcname: schedule\n",
      "iostream.py(202):         if self.thread.is_alive():\n",
      " --- modulename: threading, funcname: is_alive\n",
      "threading.py(1100):         assert self._initialized, \"Thread.__init__() not called\"\n",
      "threading.py(1101):         if self._is_stopped or not self._started.is_set():\n",
      " --- modulename: threading, funcname: is_set\n",
      "threading.py(509):         return self._flag\n",
      "threading.py(1103):         self._wait_for_tstate_lock(False)\n",
      " --- modulename: threading, funcname: _wait_for_tstate_lock\n",
      "threading.py(1057):         lock = self._tstate_lock\n",
      "threading.py(1058):         if lock is None:  # already determined that the C code is done\n",
      "threading.py(1060):         elif lock.acquire(block, timeout):\n",
      "threading.py(1104):         return not self._is_stopped\n",
      "iostream.py(203):             self._events.append(f)\n",
      "recurse(2)iostream.py(205):             self._event_pipe.send(b'')\n",
      " --- modulename: iostream, funcname: _event_pipe\n",
      "iostream.py(96):         try:\n",
      "iostream.py(97):             event_pipe = self._local.event_pipe\n",
      "iostream.py(105):         return event_pipe\n",
      " --- modulename: socket, funcname: send\n",
      "socket.py(390):         if routing_id is not None:\n",
      "socket.py(395):         if group is not None:\n",
      "socket.py(400):         return super(Socket, self).send(data, flags=flags, copy=copy, track=track)\n",
      "iostream.py(403):             if is_child:\n",
      "iostream.py(410):                 self._schedule_flush()\n",
      " --- modulename: iostream, funcname: _schedule_flush\n",
      "iostream.py(327):         if self._flush_pending:\n",
      "iostream.py(328):             return\n",
      " --- modulename: iostream, funcname: write\n",
      "iostream.py(385):         if self.echo is not None:\n",
      "iostream.py(393):         if self.pub_thread is None:\n",
      "iostream.py(397):             if not isinstance(string, unicode_type):\n",
      "iostream.py(400):             is_child = (not self._is_master_process())\n",
      " --- modulename: iostream, funcname: _is_master_process\n",
      "iostream.py(310):         return os.getpid() == self._master_pid\n",
      "iostream.py(402):             self.pub_thread.schedule(lambda : self._buffer.write(string))\n",
      " --- modulename: iostream, funcname: schedule\n",
      "iostream.py(202):         if self.thread.is_alive():\n",
      " --- modulename: threading, funcname: is_alive\n",
      "threading.py(1100):         assert self._initialized, \"Thread.__init__() not called\"\n",
      "threading.py(1101):         if self._is_stopped or not self._started.is_set():\n",
      " --- modulename: threading, funcname: is_set\n",
      "threading.py(509):         return self._flag\n",
      "threading.py(1103):         self._wait_for_tstate_lock(False)\n",
      " --- modulename: threading, funcname: _wait_for_tstate_lock\n",
      "threading.py(1057):         lock = self._tstate_lock\n",
      "threading.py(1058):         if lock is None:  # already determined that the C code is done\n",
      "threading.py(1060):         elif lock.acquire(block, timeout):\n",
      "threading.py(1104):         return not self._is_stopped\n",
      "iostream.py(203):             self._events.append(f)\n",
      "\n",
      "iostream.py(205):             self._event_pipe.send(b'')\n",
      " --- modulename: iostream, funcname: _event_pipe\n",
      "iostream.py(96):         try:\n",
      "iostream.py(97):             event_pipe = self._local.event_pipe\n",
      "iostream.py(105):         return event_pipe\n",
      " --- modulename: socket, funcname: send\n",
      "socket.py(390):         if routing_id is not None:\n",
      "socket.py(395):         if group is not None:\n",
      "socket.py(400):         return super(Socket, self).send(data, flags=flags, copy=copy, track=track)\n",
      "iostream.py(403):             if is_child:\n",
      "iostream.py(410):                 self._schedule_flush()\n",
      " --- modulename: iostream, funcname: _schedule_flush\n",
      "iostream.py(327):         if self._flush_pending:\n",
      "iostream.py(328):             return\n",
      " --- modulename: iostream, funcname: write\n",
      "iostream.py(385):         if self.echo is not None:\n",
      "iostream.py(393):         if self.pub_thread is None:\n",
      "iostream.py(397):             if not isinstance(string, unicode_type):\n",
      "iostream.py(400):             is_child = (not self._is_master_process())\n",
      " --- modulename: iostream, funcname: _is_master_process\n",
      "iostream.py(310):         return os.getpid() == self._master_pid\n",
      "iostream.py(402):             self.pub_thread.schedule(lambda : self._buffer.write(string))\n",
      " --- modulename: iostream, funcname: schedule\n",
      "iostream.py(202):         if self.thread.is_alive():\n",
      " --- modulename: threading, funcname: is_alive\n",
      "threading.py(1100):         assert self._initialized, \"Thread.__init__() not called\"\n",
      "threading.py(1101):         if self._is_stopped or not self._started.is_set():\n",
      " --- modulename: threading, funcname: is_set\n",
      "threading.py(509):         return self._flag\n",
      "threading.py(1103):         self._wait_for_tstate_lock(False)\n",
      " --- modulename: threading, funcname: _wait_for_tstate_lock\n",
      "threading.py(1057):         lock = self._tstate_lock\n",
      "threading.py(1058):         if lock is None:  # already determined that the C code is done\n",
      "threading.py(1060):         elif lock.acquire(block, timeout):\n",
      "threading.py(1104):         return not self._is_stopped\n",
      "iostream.py(203):             self._events.append(f)\n",
      "recurse(1)iostream.py(205):             self._event_pipe.send(b'')\n",
      " --- modulename: iostream, funcname: _event_pipe\n",
      "iostream.py(96):         try:\n",
      "iostream.py(97):             event_pipe = self._local.event_pipe\n",
      "iostream.py(105):         return event_pipe\n",
      " --- modulename: socket, funcname: send\n",
      "socket.py(390):         if routing_id is not None:\n",
      "socket.py(395):         if group is not None:\n",
      "socket.py(400):         return super(Socket, self).send(data, flags=flags, copy=copy, track=track)\n",
      "iostream.py(403):             if is_child:\n",
      "iostream.py(410):                 self._schedule_flush()\n",
      " --- modulename: iostream, funcname: _schedule_flush\n",
      "iostream.py(327):         if self._flush_pending:\n",
      "iostream.py(328):             return\n",
      " --- modulename: iostream, funcname: write\n",
      "iostream.py(385):         if self.echo is not None:\n",
      "iostream.py(393):         if self.pub_thread is None:\n",
      "iostream.py(397):             if not isinstance(string, unicode_type):\n",
      "iostream.py(400):             is_child = (not self._is_master_process())\n",
      " --- modulename: iostream, funcname: _is_master_process\n",
      "iostream.py(310):         return os.getpid() == self._master_pid\n",
      "iostream.py(402):             self.pub_thread.schedule(lambda : self._buffer.write(string))\n",
      " --- modulename: iostream, funcname: schedule\n",
      "iostream.py(202):         if self.thread.is_alive():\n",
      " --- modulename: threading, funcname: is_alive\n",
      "threading.py(1100):         assert self._initialized, \"Thread.__init__() not called\"\n",
      "threading.py(1101):         if self._is_stopped or not self._started.is_set():\n",
      " --- modulename: threading, funcname: is_set\n",
      "threading.py(509):         return self._flag\n",
      "threading.py(1103):         self._wait_for_tstate_lock(False)\n",
      " --- modulename: threading, funcname: _wait_for_tstate_lock\n",
      "threading.py(1057):         lock = self._tstate_lock\n",
      "threading.py(1058):         if lock is None:  # already determined that the C code is done\n",
      "threading.py(1060):         elif lock.acquire(block, timeout):\n",
      "threading.py(1104):         return not self._is_stopped\n",
      "iostream.py(203):             self._events.append(f)\n",
      "\n",
      "iostream.py(205):             self._event_pipe.send(b'')\n",
      " --- modulename: iostream, funcname: _event_pipe\n",
      "iostream.py(96):         try:\n",
      "iostream.py(97):             event_pipe = self._local.event_pipe\n",
      "iostream.py(105):         return event_pipe\n",
      " --- modulename: socket, funcname: send\n",
      "socket.py(390):         if routing_id is not None:\n",
      "socket.py(395):         if group is not None:\n",
      "socket.py(400):         return super(Socket, self).send(data, flags=flags, copy=copy, track=track)\n",
      "iostream.py(403):             if is_child:\n",
      "iostream.py(410):                 self._schedule_flush()\n",
      " --- modulename: iostream, funcname: _schedule_flush\n",
      "iostream.py(327):         if self._flush_pending:\n",
      "iostream.py(328):             return\n",
      " --- modulename: iostream, funcname: write\n",
      "iostream.py(385):         if self.echo is not None:\n",
      "iostream.py(393):         if self.pub_thread is None:\n",
      "iostream.py(397):             if not isinstance(string, unicode_type):\n",
      "iostream.py(400):             is_child = (not self._is_master_process())\n",
      " --- modulename: iostream, funcname: _is_master_process\n",
      "iostream.py(310):         return os.getpid() == self._master_pid\n",
      "iostream.py(402):             self.pub_thread.schedule(lambda : self._buffer.write(string))\n",
      " --- modulename: iostream, funcname: schedule\n",
      "iostream.py(202):         if self.thread.is_alive():\n",
      " --- modulename: threading, funcname: is_alive\n",
      "threading.py(1100):         assert self._initialized, \"Thread.__init__() not called\"\n",
      "threading.py(1101):         if self._is_stopped or not self._started.is_set():\n",
      " --- modulename: threading, funcname: is_set\n",
      "threading.py(509):         return self._flag\n",
      "threading.py(1103):         self._wait_for_tstate_lock(False)\n",
      " --- modulename: threading, funcname: _wait_for_tstate_lock\n",
      "threading.py(1057):         lock = self._tstate_lock\n",
      "threading.py(1058):         if lock is None:  # already determined that the C code is done\n",
      "threading.py(1060):         elif lock.acquire(block, timeout):\n",
      "threading.py(1104):         return not self._is_stopped\n",
      "iostream.py(203):             self._events.append(f)\n",
      "recurse(0)iostream.py(205):             self._event_pipe.send(b'')\n",
      " --- modulename: iostream, funcname: _event_pipe\n",
      "iostream.py(96):         try:\n",
      "iostream.py(97):             event_pipe = self._local.event_pipe\n",
      "iostream.py(105):         return event_pipe\n",
      " --- modulename: socket, funcname: send\n",
      "socket.py(390):         if routing_id is not None:\n",
      "socket.py(395):         if group is not None:\n",
      "socket.py(400):         return super(Socket, self).send(data, flags=flags, copy=copy, track=track)\n",
      "iostream.py(403):             if is_child:\n",
      "iostream.py(410):                 self._schedule_flush()\n",
      " --- modulename: iostream, funcname: _schedule_flush\n",
      "iostream.py(327):         if self._flush_pending:\n",
      "iostream.py(328):             return\n",
      " --- modulename: iostream, funcname: write\n",
      "iostream.py(385):         if self.echo is not None:\n",
      "iostream.py(393):         if self.pub_thread is None:\n",
      "iostream.py(397):             if not isinstance(string, unicode_type):\n",
      "iostream.py(400):             is_child = (not self._is_master_process())\n",
      " --- modulename: iostream, funcname: _is_master_process\n",
      "iostream.py(310):         return os.getpid() == self._master_pid\n",
      "iostream.py(402):             self.pub_thread.schedule(lambda : self._buffer.write(string))\n",
      " --- modulename: iostream, funcname: schedule\n",
      "iostream.py(202):         if self.thread.is_alive():\n",
      " --- modulename: threading, funcname: is_alive\n",
      "threading.py(1100):         assert self._initialized, \"Thread.__init__() not called\"\n",
      "threading.py(1101):         if self._is_stopped or not self._started.is_set():\n",
      " --- modulename: threading, funcname: is_set\n",
      "threading.py(509):         return self._flag\n",
      "threading.py(1103):         self._wait_for_tstate_lock(False)\n",
      " --- modulename: threading, funcname: _wait_for_tstate_lock\n",
      "threading.py(1057):         lock = self._tstate_lock\n",
      "threading.py(1058):         if lock is None:  # already determined that the C code is done\n",
      "threading.py(1060):         elif lock.acquire(block, timeout):\n",
      "threading.py(1104):         return not self._is_stopped\n",
      "iostream.py(203):             self._events.append(f)\n",
      "\n",
      "iostream.py(205):             self._event_pipe.send(b'')\n",
      " --- modulename: iostream, funcname: _event_pipe\n",
      "iostream.py(96):         try:\n",
      "iostream.py(97):             event_pipe = self._local.event_pipe\n",
      "iostream.py(105):         return event_pipe\n",
      " --- modulename: socket, funcname: send\n",
      "socket.py(390):         if routing_id is not None:\n",
      "socket.py(395):         if group is not None:\n",
      "socket.py(400):         return super(Socket, self).send(data, flags=flags, copy=copy, track=track)\n",
      "iostream.py(403):             if is_child:\n",
      "iostream.py(410):                 self._schedule_flush()\n",
      " --- modulename: iostream, funcname: _schedule_flush\n",
      "iostream.py(327):         if self._flush_pending:\n",
      "iostream.py(328):             return\n"
     ]
    }
   ],
   "source": [
    "tracer = trace.Trace(count=True,\n",
    "                     trace=True,\n",
    "                     outfile='trace_report.txt')\n",
    "tracer.runfunc(recurse, 2)\n",
    "\n",
    "report_tracer = trace.Trace(count=True,\n",
    "                            trace=True,\n",
    "                            infile='trace_report.txt')"
   ]
  },
  {
   "cell_type": "markdown",
   "metadata": {},
   "source": [
    "__Задание 2__\n",
    "\n",
    "Создайте любую функцию от нескольких аргументов и:\n",
    "\n",
    "1) Сделайте так, чтоб отладчик запускался из самой программы\n",
    "\n",
    "2) Выведите через отладчик:аргументы функции, ближайшие 10 строк относительно вашей позиции и весь код функции\n",
    "\n",
    "3) Создайте 2 точки останова"
   ]
  },
  {
   "cell_type": "code",
   "execution_count": 2,
   "metadata": {},
   "outputs": [
    {
     "name": "stdout",
     "output_type": "stream",
     "text": [
      "> <ipython-input-2-c7de87b5cd1e>(4)pluss()\n",
      "-> print(a+b)\n"
     ]
    },
    {
     "name": "stdin",
     "output_type": "stream",
     "text": [
      "(Pdb)  args\n"
     ]
    },
    {
     "name": "stdout",
     "output_type": "stream",
     "text": [
      "a = 1\n",
      "b = 2\n"
     ]
    },
    {
     "name": "stdin",
     "output_type": "stream",
     "text": [
      "(Pdb)  help\n"
     ]
    },
    {
     "name": "stdout",
     "output_type": "stream",
     "text": [
      "\n",
      "Documented commands (type help <topic>):\n",
      "========================================\n",
      "EOF    c          d        h         list      q        rv       undisplay\n",
      "a      cl         debug    help      ll        quit     s        unt      \n",
      "alias  clear      disable  ignore    longlist  r        source   until    \n",
      "args   commands   display  interact  n         restart  step     up       \n",
      "b      condition  down     j         next      return   tbreak   w        \n",
      "break  cont       enable   jump      p         retval   u        whatis   \n",
      "bt     continue   exit     l         pp        run      unalias  where    \n",
      "\n",
      "Miscellaneous help topics:\n",
      "==========================\n",
      "exec  pdb\n",
      "\n"
     ]
    },
    {
     "name": "stdin",
     "output_type": "stream",
     "text": [
      "(Pdb)  list\n"
     ]
    },
    {
     "name": "stdout",
     "output_type": "stream",
     "text": [
      "  1  \timport pdb\n",
      "  2  \tdef pluss(a,b):\n",
      "  3  \t    pdb.set_trace()\n",
      "  4  ->\t    print(a+b)\n",
      "  5  \t    return\n",
      "  6  \tif __name__ == '__main__':\n",
      "  7  \t    pluss(1,2)\n",
      "[EOF]\n"
     ]
    },
    {
     "name": "stdin",
     "output_type": "stream",
     "text": [
      "(Pdb)  longlist\n"
     ]
    },
    {
     "name": "stdout",
     "output_type": "stream",
     "text": [
      "  2  \tdef pluss(a,b):\n",
      "  3  \t    pdb.set_trace()\n",
      "  4  ->\t    print(a+b)\n",
      "  5  \t    return\n"
     ]
    },
    {
     "name": "stdin",
     "output_type": "stream",
     "text": [
      "(Pdb)  break 2\n"
     ]
    },
    {
     "name": "stdout",
     "output_type": "stream",
     "text": [
      "Breakpoint 1 at <ipython-input-2-c7de87b5cd1e>:2\n"
     ]
    },
    {
     "name": "stdin",
     "output_type": "stream",
     "text": [
      "(Pdb)  break 3\n"
     ]
    },
    {
     "name": "stdout",
     "output_type": "stream",
     "text": [
      "Breakpoint 2 at <ipython-input-2-c7de87b5cd1e>:3\n"
     ]
    },
    {
     "name": "stdin",
     "output_type": "stream",
     "text": [
      "(Pdb)  exit\n"
     ]
    },
    {
     "ename": "BdbQuit",
     "evalue": "",
     "output_type": "error",
     "traceback": [
      "\u001b[1;31m---------------------------------------------------------------------------\u001b[0m",
      "\u001b[1;31mBdbQuit\u001b[0m                                   Traceback (most recent call last)",
      "\u001b[1;32m<ipython-input-2-c7de87b5cd1e>\u001b[0m in \u001b[0;36m<module>\u001b[1;34m\u001b[0m\n\u001b[0;32m      5\u001b[0m     \u001b[1;32mreturn\u001b[0m\u001b[1;33m\u001b[0m\u001b[1;33m\u001b[0m\u001b[0m\n\u001b[0;32m      6\u001b[0m \u001b[1;32mif\u001b[0m \u001b[0m__name__\u001b[0m \u001b[1;33m==\u001b[0m \u001b[1;34m'__main__'\u001b[0m\u001b[1;33m:\u001b[0m\u001b[1;33m\u001b[0m\u001b[1;33m\u001b[0m\u001b[0m\n\u001b[1;32m----> 7\u001b[1;33m     \u001b[0mpluss\u001b[0m\u001b[1;33m(\u001b[0m\u001b[1;36m1\u001b[0m\u001b[1;33m,\u001b[0m\u001b[1;36m2\u001b[0m\u001b[1;33m)\u001b[0m\u001b[1;33m\u001b[0m\u001b[1;33m\u001b[0m\u001b[0m\n\u001b[0m",
      "\u001b[1;32m<ipython-input-2-c7de87b5cd1e>\u001b[0m in \u001b[0;36mpluss\u001b[1;34m(a, b)\u001b[0m\n\u001b[0;32m      2\u001b[0m \u001b[1;32mdef\u001b[0m \u001b[0mpluss\u001b[0m\u001b[1;33m(\u001b[0m\u001b[0ma\u001b[0m\u001b[1;33m,\u001b[0m\u001b[0mb\u001b[0m\u001b[1;33m)\u001b[0m\u001b[1;33m:\u001b[0m\u001b[1;33m\u001b[0m\u001b[1;33m\u001b[0m\u001b[0m\n\u001b[0;32m      3\u001b[0m     \u001b[0mpdb\u001b[0m\u001b[1;33m.\u001b[0m\u001b[0mset_trace\u001b[0m\u001b[1;33m(\u001b[0m\u001b[1;33m)\u001b[0m\u001b[1;33m\u001b[0m\u001b[1;33m\u001b[0m\u001b[0m\n\u001b[1;32m----> 4\u001b[1;33m     \u001b[0mprint\u001b[0m\u001b[1;33m(\u001b[0m\u001b[0ma\u001b[0m\u001b[1;33m+\u001b[0m\u001b[0mb\u001b[0m\u001b[1;33m)\u001b[0m\u001b[1;33m\u001b[0m\u001b[1;33m\u001b[0m\u001b[0m\n\u001b[0m\u001b[0;32m      5\u001b[0m     \u001b[1;32mreturn\u001b[0m\u001b[1;33m\u001b[0m\u001b[1;33m\u001b[0m\u001b[0m\n\u001b[0;32m      6\u001b[0m \u001b[1;32mif\u001b[0m \u001b[0m__name__\u001b[0m \u001b[1;33m==\u001b[0m \u001b[1;34m'__main__'\u001b[0m\u001b[1;33m:\u001b[0m\u001b[1;33m\u001b[0m\u001b[1;33m\u001b[0m\u001b[0m\n",
      "\u001b[1;32m<ipython-input-2-c7de87b5cd1e>\u001b[0m in \u001b[0;36mpluss\u001b[1;34m(a, b)\u001b[0m\n\u001b[0;32m      2\u001b[0m \u001b[1;32mdef\u001b[0m \u001b[0mpluss\u001b[0m\u001b[1;33m(\u001b[0m\u001b[0ma\u001b[0m\u001b[1;33m,\u001b[0m\u001b[0mb\u001b[0m\u001b[1;33m)\u001b[0m\u001b[1;33m:\u001b[0m\u001b[1;33m\u001b[0m\u001b[1;33m\u001b[0m\u001b[0m\n\u001b[0;32m      3\u001b[0m     \u001b[0mpdb\u001b[0m\u001b[1;33m.\u001b[0m\u001b[0mset_trace\u001b[0m\u001b[1;33m(\u001b[0m\u001b[1;33m)\u001b[0m\u001b[1;33m\u001b[0m\u001b[1;33m\u001b[0m\u001b[0m\n\u001b[1;32m----> 4\u001b[1;33m     \u001b[0mprint\u001b[0m\u001b[1;33m(\u001b[0m\u001b[0ma\u001b[0m\u001b[1;33m+\u001b[0m\u001b[0mb\u001b[0m\u001b[1;33m)\u001b[0m\u001b[1;33m\u001b[0m\u001b[1;33m\u001b[0m\u001b[0m\n\u001b[0m\u001b[0;32m      5\u001b[0m     \u001b[1;32mreturn\u001b[0m\u001b[1;33m\u001b[0m\u001b[1;33m\u001b[0m\u001b[0m\n\u001b[0;32m      6\u001b[0m \u001b[1;32mif\u001b[0m \u001b[0m__name__\u001b[0m \u001b[1;33m==\u001b[0m \u001b[1;34m'__main__'\u001b[0m\u001b[1;33m:\u001b[0m\u001b[1;33m\u001b[0m\u001b[1;33m\u001b[0m\u001b[0m\n",
      "\u001b[1;32m~\\Anaconda3\\lib\\bdb.py\u001b[0m in \u001b[0;36mtrace_dispatch\u001b[1;34m(self, frame, event, arg)\u001b[0m\n\u001b[0;32m     86\u001b[0m             \u001b[1;32mreturn\u001b[0m \u001b[1;31m# None\u001b[0m\u001b[1;33m\u001b[0m\u001b[1;33m\u001b[0m\u001b[0m\n\u001b[0;32m     87\u001b[0m         \u001b[1;32mif\u001b[0m \u001b[0mevent\u001b[0m \u001b[1;33m==\u001b[0m \u001b[1;34m'line'\u001b[0m\u001b[1;33m:\u001b[0m\u001b[1;33m\u001b[0m\u001b[1;33m\u001b[0m\u001b[0m\n\u001b[1;32m---> 88\u001b[1;33m             \u001b[1;32mreturn\u001b[0m \u001b[0mself\u001b[0m\u001b[1;33m.\u001b[0m\u001b[0mdispatch_line\u001b[0m\u001b[1;33m(\u001b[0m\u001b[0mframe\u001b[0m\u001b[1;33m)\u001b[0m\u001b[1;33m\u001b[0m\u001b[1;33m\u001b[0m\u001b[0m\n\u001b[0m\u001b[0;32m     89\u001b[0m         \u001b[1;32mif\u001b[0m \u001b[0mevent\u001b[0m \u001b[1;33m==\u001b[0m \u001b[1;34m'call'\u001b[0m\u001b[1;33m:\u001b[0m\u001b[1;33m\u001b[0m\u001b[1;33m\u001b[0m\u001b[0m\n\u001b[0;32m     90\u001b[0m             \u001b[1;32mreturn\u001b[0m \u001b[0mself\u001b[0m\u001b[1;33m.\u001b[0m\u001b[0mdispatch_call\u001b[0m\u001b[1;33m(\u001b[0m\u001b[0mframe\u001b[0m\u001b[1;33m,\u001b[0m \u001b[0marg\u001b[0m\u001b[1;33m)\u001b[0m\u001b[1;33m\u001b[0m\u001b[1;33m\u001b[0m\u001b[0m\n",
      "\u001b[1;32m~\\Anaconda3\\lib\\bdb.py\u001b[0m in \u001b[0;36mdispatch_line\u001b[1;34m(self, frame)\u001b[0m\n\u001b[0;32m    111\u001b[0m         \u001b[1;32mif\u001b[0m \u001b[0mself\u001b[0m\u001b[1;33m.\u001b[0m\u001b[0mstop_here\u001b[0m\u001b[1;33m(\u001b[0m\u001b[0mframe\u001b[0m\u001b[1;33m)\u001b[0m \u001b[1;32mor\u001b[0m \u001b[0mself\u001b[0m\u001b[1;33m.\u001b[0m\u001b[0mbreak_here\u001b[0m\u001b[1;33m(\u001b[0m\u001b[0mframe\u001b[0m\u001b[1;33m)\u001b[0m\u001b[1;33m:\u001b[0m\u001b[1;33m\u001b[0m\u001b[1;33m\u001b[0m\u001b[0m\n\u001b[0;32m    112\u001b[0m             \u001b[0mself\u001b[0m\u001b[1;33m.\u001b[0m\u001b[0muser_line\u001b[0m\u001b[1;33m(\u001b[0m\u001b[0mframe\u001b[0m\u001b[1;33m)\u001b[0m\u001b[1;33m\u001b[0m\u001b[1;33m\u001b[0m\u001b[0m\n\u001b[1;32m--> 113\u001b[1;33m             \u001b[1;32mif\u001b[0m \u001b[0mself\u001b[0m\u001b[1;33m.\u001b[0m\u001b[0mquitting\u001b[0m\u001b[1;33m:\u001b[0m \u001b[1;32mraise\u001b[0m \u001b[0mBdbQuit\u001b[0m\u001b[1;33m\u001b[0m\u001b[1;33m\u001b[0m\u001b[0m\n\u001b[0m\u001b[0;32m    114\u001b[0m         \u001b[1;32mreturn\u001b[0m \u001b[0mself\u001b[0m\u001b[1;33m.\u001b[0m\u001b[0mtrace_dispatch\u001b[0m\u001b[1;33m\u001b[0m\u001b[1;33m\u001b[0m\u001b[0m\n\u001b[0;32m    115\u001b[0m \u001b[1;33m\u001b[0m\u001b[0m\n",
      "\u001b[1;31mBdbQuit\u001b[0m: "
     ]
    }
   ],
   "source": [
    "import pdb\n",
    "def pluss(a,b):\n",
    "    pdb.set_trace()\n",
    "    print(a+b)\n",
    "    return\n",
    "if __name__ == '__main__':\n",
    "    pluss(1,2)"
   ]
  },
  {
   "cell_type": "code",
   "execution_count": null,
   "metadata": {},
   "outputs": [],
   "source": []
  }
 ],
 "metadata": {
  "kernelspec": {
   "display_name": "Python 3",
   "language": "python",
   "name": "python3"
  },
  "language_info": {
   "codemirror_mode": {
    "name": "ipython",
    "version": 3
   },
   "file_extension": ".py",
   "mimetype": "text/x-python",
   "name": "python",
   "nbconvert_exporter": "python",
   "pygments_lexer": "ipython3",
   "version": "3.7.4"
  }
 },
 "nbformat": 4,
 "nbformat_minor": 4
}
