{
 "cells": [
  {
   "cell_type": "markdown",
   "metadata": {},
   "source": [
    "__Задания__\n",
    "\n",
    "1) Не используя библеотеку UUID создать уникальную 12-ти символьную строку, используя латиницу, цифры, а также сегодняшнюю дату и время. \n",
    "\n",
    "2)Создайте функцию в которой пользователь вводит ссылку сайта и получает данные cookie по странице.\n",
    "\n",
    "3)Решите проблему с webbrowser, так чтоб можно было несколько ссылок открывать в одном браузере, пример неправильного выполнения ниже.\n",
    "\n",
    "import webbrowser\n",
    "webbrowser.open_new_tab('https://vk.com')\n",
    "webbrowser.open_new_tab('яблоки')\n"
   ]
  },
  {
   "cell_type": "markdown",
   "metadata": {},
   "source": [
    "1) Не используя библеотеку UUID создать уникальную 12-ти символьную строку, используя латиницу, цифры, а также сегодняшнюю дату и время."
   ]
  },
  {
   "cell_type": "code",
   "execution_count": 8,
   "metadata": {},
   "outputs": [
    {
     "name": "stdout",
     "output_type": "stream",
     "text": [
      "63f01627878b\n"
     ]
    }
   ],
   "source": [
    "import secrets\n",
    "print(secrets.token_hex(6))"
   ]
  },
  {
   "cell_type": "markdown",
   "metadata": {},
   "source": [
    "2) Создайте функцию в которой пользователь вводит ссылку сайта и получает данные cookie по странице."
   ]
  },
  {
   "cell_type": "code",
   "execution_count": 10,
   "metadata": {},
   "outputs": [
    {
     "name": "stdin",
     "output_type": "stream",
     "text": [
      "Введите ссылку:  http://www.google.com/\n"
     ]
    },
    {
     "name": "stdout",
     "output_type": "stream",
     "text": [
      "1P_JAR 2020-12-10-18\n",
      "NID 204=bPgcpcaVnajU_yMmmyJLpuWxIgIHLEpn8byAnaEupZ8owyoTmr98kHfAbzDcyZWk6Y5ks8eNyDHjRwo3FcMj_kGmpQf7lLzKNB6GEzPz148CPm3qwpnEcmsqk0Q0YNVgu9O83yvRWnwfVyC7CCoCn1SMCPnh_l4Z_oT99Yrzdjc\n",
      "1P_JAR 2020-12-10-18\n",
      "NID 204=bPgcpcaVnajU_yMmmyJLpuWxIgIHLEpn8byAnaEupZ8owyoTmr98kHfAbzDcyZWk6Y5ks8eNyDHjRwo3FcMj_kGmpQf7lLzKNB6GEzPz148CPm3qwpnEcmsqk0Q0YNVgu9O83yvRWnwfVyC7CCoCn1SMCPnh_l4Z_oT99Yrzdjc\n"
     ]
    }
   ],
   "source": [
    "from urllib.request import Request, build_opener, HTTPCookieProcessor, HTTPHandler, HTTPSHandler\n",
    "import http.cookiejar\n",
    "\n",
    "uri=input(\"Введите ссылку: \")\n",
    "cookies = http.cookiejar.LWPCookieJar()\n",
    "handlers = [\n",
    "    HTTPHandler(),\n",
    "    HTTPSHandler(),\n",
    "    HTTPCookieProcessor(cookies)\n",
    "    ]\n",
    "opener = build_opener(*handlers)\n",
    "\n",
    "def fetch(uri):\n",
    "    req = Request(uri)\n",
    "    return opener.open(req)\n",
    "\n",
    "def dump():\n",
    "    for cookie in cookies:\n",
    "        print(cookie.name, cookie.value)\n",
    "\n",
    "res = fetch(uri)\n",
    "dump()\n",
    "\n",
    "res = fetch(uri)\n",
    "dump()\n"
   ]
  },
  {
   "cell_type": "markdown",
   "metadata": {},
   "source": [
    "3)Решите проблему с webbrowser"
   ]
  },
  {
   "cell_type": "code",
   "execution_count": 11,
   "metadata": {},
   "outputs": [
    {
     "data": {
      "text/plain": [
       "True"
      ]
     },
     "execution_count": 11,
     "metadata": {},
     "output_type": "execute_result"
    }
   ],
   "source": [
    "import webbrowser\n",
    "webbrowser.open_new_tab('https://vk.com')\n",
    "webbrowser.open_new_tab('https://yandex.ru/search/?text={}'.format('python'))"
   ]
  },
  {
   "cell_type": "code",
   "execution_count": null,
   "metadata": {},
   "outputs": [],
   "source": []
  }
 ],
 "metadata": {
  "kernelspec": {
   "display_name": "Python 3",
   "language": "python",
   "name": "python3"
  },
  "language_info": {
   "codemirror_mode": {
    "name": "ipython",
    "version": 3
   },
   "file_extension": ".py",
   "mimetype": "text/x-python",
   "name": "python",
   "nbconvert_exporter": "python",
   "pygments_lexer": "ipython3",
   "version": "3.7.4"
  }
 },
 "nbformat": 4,
 "nbformat_minor": 4
}
