{
 "cells": [
  {
   "cell_type": "markdown",
   "metadata": {},
   "source": [
    "Задание 1"
   ]
  },
  {
   "cell_type": "code",
   "execution_count": 79,
   "metadata": {},
   "outputs": [],
   "source": [
    "def log(func):\n",
    "    def reterner(*args):\n",
    "        print('вы вызвали функцию ' + func.__name__ + \"(\" + \", \".join(map(str,args)) + \")\")\n",
    "        print('она вернула значение {}'.format(func(*args)))\n",
    "        return func(*args)\n",
    "    return reterner\n",
    "@log\n",
    "def function(*args):\n",
    "    return 3 + len(args)"
   ]
  },
  {
   "cell_type": "code",
   "execution_count": 80,
   "metadata": {},
   "outputs": [
    {
     "name": "stdout",
     "output_type": "stream",
     "text": [
      "вы вызвали функцию function(4, 4, 4)\n",
      "она вернула значение 6\n"
     ]
    },
    {
     "data": {
      "text/plain": [
       "6"
      ]
     },
     "execution_count": 80,
     "metadata": {},
     "output_type": "execute_result"
    }
   ],
   "source": [
    "function(4, 4, 4)"
   ]
  },
  {
   "cell_type": "markdown",
   "metadata": {},
   "source": [
    "Задание 2"
   ]
  },
  {
   "cell_type": "markdown",
   "metadata": {},
   "source": [
    "Напишите декоратор html, который в результате вызова function('hi') записывает в файл с именем \"my_file.html\".\n",
    "Подсказка: время можно взять из time.strftime()\n",
    "Пример вызова декоратора:\n",
    "@html\n",
    "def function(s='hello'):\n",
    "    return s \n",
    "function('hi')"
   ]
  },
  {
   "cell_type": "code",
   "execution_count": 78,
   "metadata": {},
   "outputs": [],
   "source": [
    "def html(func):\n",
    "    def wrapper(s):\n",
    "        import time\n",
    "        import datetime\n",
    "        to = datetime.datetime.today()\n",
    "        to = to.strftime(\"%Y/%m/%d %H:%M  \") \n",
    "        html_time ='<html>' + to + '</html>'\n",
    "        html_str = '<html>' + '<strong>' + func(s) + '</strong>' + '</html>'\n",
    "        Html_file= open(\"my_file.html\",\"w\")\n",
    "        Html_file.write(html_time)\n",
    "        Html_file.write(html_str)\n",
    "        Html_file.close()\n",
    "        return None\n",
    "    return wrapper\n",
    "@html\n",
    "def function(s='hello'):\n",
    "    return s"
   ]
  },
  {
   "cell_type": "code",
   "execution_count": 79,
   "metadata": {},
   "outputs": [],
   "source": [
    "function('hi')"
   ]
  },
  {
   "cell_type": "code",
   "execution_count": null,
   "metadata": {},
   "outputs": [],
   "source": []
  }
 ],
 "metadata": {
  "kernelspec": {
   "display_name": "Python 3",
   "language": "python",
   "name": "python3"
  },
  "language_info": {
   "codemirror_mode": {
    "name": "ipython",
    "version": 3
   },
   "file_extension": ".py",
   "mimetype": "text/x-python",
   "name": "python",
   "nbconvert_exporter": "python",
   "pygments_lexer": "ipython3",
   "version": "3.8.5"
  }
 },
 "nbformat": 4,
 "nbformat_minor": 4
}
