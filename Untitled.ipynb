{
 "cells": [
  {
   "cell_type": "markdown",
   "metadata": {},
   "source": [
    "__Задания__"
   ]
  },
  {
   "cell_type": "code",
   "execution_count": 2,
   "metadata": {},
   "outputs": [
    {
     "name": "stdout",
     "output_type": "stream",
     "text": [
      "IPv4Address('10.9.0.6')\n",
      " IP version: 4\n",
      " is private: True\n",
      " packed form: b'0a090006'\n",
      " integer: 168361990\n",
      "\n",
      "IPv6Address('fdfd:87b5:b475:5e3e:b1bc:e121:a8eb:14aa')\n",
      " IP version: 6\n",
      " is private: True\n",
      " packed form: b'fdfd87b5b4755e3eb1bce121a8eb14aa'\n",
      " integer: 337611086560236126439725644408160982186\n",
      "\n"
     ]
    }
   ],
   "source": [
    "import binascii\n",
    "import ipaddress\n",
    "ADDRESSES = [\n",
    "             '10.9.0.6',\n",
    "             'fdfd:87b5:b475:5e3e:b1bc:e121:a8eb:14aa',\n",
    "]\n",
    "for ip in ADDRESSES:\n",
    "    addr = ipaddress.ip_address(ip)\n",
    "    print('{!r}'.format(addr))\n",
    "    print(' IP version:', addr.version)\n",
    "    print(' is private:', addr.is_private)\n",
    "    print(' packed form:', binascii.hexlify(addr.packed))\n",
    "    print(' integer:', int(addr))\n",
    "    print()"
   ]
  },
  {
   "cell_type": "code",
   "execution_count": 4,
   "metadata": {},
   "outputs": [
    {
     "name": "stdout",
     "output_type": "stream",
     "text": [
      "IPv4Network('10.9.0.0/24')\n",
      " is private: True\n",
      " broadcast: 10.9.0.255\n",
      " compressed: 10.9.0.0/24\n",
      " with netmask: 10.9.0.0/255.255.255.0\n",
      " with hostmask: 10.9.0.0/0.0.0.255\n",
      " num addresses: 256\n",
      "\n",
      "IPv6Network('fdfd:87b5:b475:5e3e::/64')\n",
      " is private: True\n",
      " broadcast: fdfd:87b5:b475:5e3e:ffff:ffff:ffff:ffff\n",
      " compressed: fdfd:87b5:b475:5e3e::/64\n",
      " with netmask: fdfd:87b5:b475:5e3e::/ffff:ffff:ffff:ffff::\n",
      " with hostmask: fdfd:87b5:b475:5e3e::/::ffff:ffff:ffff:ffff\n",
      " num addresses: 18446744073709551616\n",
      "\n"
     ]
    }
   ],
   "source": [
    "NETWORKS = [\n",
    "             '10.9.0.0/24',\n",
    "             'fdfd:87b5:b475:5e3e::/64',\n",
    "]\n",
    "\n",
    "for n in NETWORKS:\n",
    "    net = ipaddress.ip_network(n)\n",
    "    print('{!r}'.format(net))\n",
    "    print(' is private:', net.is_private)\n",
    "    print(' broadcast:', net.broadcast_address)\n",
    "    print(' compressed:', net.compressed)\n",
    "    print(' with netmask:', net.with_netmask)\n",
    "    print(' with hostmask:', net.with_hostmask)\n",
    "    print(' num addresses:', net.num_addresses)\n",
    "    print()"
   ]
  },
  {
   "cell_type": "code",
   "execution_count": 5,
   "metadata": {},
   "outputs": [
    {
     "name": "stdout",
     "output_type": "stream",
     "text": [
      "IPv4Network('10.9.0.0/24')\n",
      "10.9.0.0\n",
      "10.9.0.1\n",
      "10.9.0.2\n",
      "\n",
      "IPv6Network('fdfd:87b5:b475:5e3e::/64')\n",
      "fdfd:87b5:b475:5e3e::\n",
      "fdfd:87b5:b475:5e3e::1\n",
      "fdfd:87b5:b475:5e3e::2\n",
      "\n"
     ]
    }
   ],
   "source": [
    "import ipaddress\n",
    "NETWORKS = [\n",
    "  '10.9.0.0/24',\n",
    "  'fdfd:87b5:b475:5e3e::/64',\n",
    "]\n",
    "for n in NETWORKS:\n",
    "    net = ipaddress.ip_network(n)\n",
    "    print('{!r}'.format(net))\n",
    "    for i, ip in zip(range(3), net):\n",
    "        print(ip)\n",
    "    print()"
   ]
  },
  {
   "cell_type": "code",
   "execution_count": 6,
   "metadata": {},
   "outputs": [
    {
     "name": "stdout",
     "output_type": "stream",
     "text": [
      "IPv4Network('10.9.0.0/24')\n",
      "10.9.0.1\n",
      "10.9.0.2\n",
      "10.9.0.3\n",
      "\n",
      "IPv6Network('fdfd:87b5:b475:5e3e::/64')\n",
      "fdfd:87b5:b475:5e3e::1\n",
      "fdfd:87b5:b475:5e3e::2\n",
      "fdfd:87b5:b475:5e3e::3\n",
      "\n"
     ]
    }
   ],
   "source": [
    "import ipaddress\n",
    "NETWORKS = [\n",
    "  '10.9.0.0/24',\n",
    "  'fdfd:87b5:b475:5e3e::/64',\n",
    "]\n",
    "for n in NETWORKS:\n",
    "    net = ipaddress.ip_network(n)\n",
    "    print('{!r}'.format(net))\n",
    "    for i, ip in zip(range(3), net.hosts()):\n",
    "        print(ip)\n",
    "    print()"
   ]
  },
  {
   "cell_type": "code",
   "execution_count": 7,
   "metadata": {},
   "outputs": [
    {
     "name": "stdout",
     "output_type": "stream",
     "text": [
      "DESKTOP-VHNQ5CN\n"
     ]
    }
   ],
   "source": [
    "\n",
    "import socket\n",
    "\n",
    "print(socket.gethostname())"
   ]
  },
  {
   "cell_type": "code",
   "execution_count": 8,
   "metadata": {},
   "outputs": [
    {
     "name": "stdout",
     "output_type": "stream",
     "text": [
      "apu : [Errno 11001] getaddrinfo failed\n",
      "pymotw.com : 66.33.211.242\n",
      "www.python.org : 151.101.36.223\n",
      "nosuchname : [Errno 11001] getaddrinfo failed\n"
     ]
    }
   ],
   "source": [
    "import socket\n",
    "HOSTS = [\n",
    "  'apu',\n",
    "  'pymotw.com',\n",
    "  'www.python.org',\n",
    "  'nosuchname'\n",
    "]\n",
    "for host in HOSTS:\n",
    "    try:\n",
    "        print('{} : {}'.format(host, socket.gethostbyname(host)))\n",
    "    except socket.error as msg:\n",
    "        print('{} : {}'.format(host, msg))"
   ]
  },
  {
   "cell_type": "code",
   "execution_count": 9,
   "metadata": {},
   "outputs": [
    {
     "name": "stdout",
     "output_type": "stream",
     "text": [
      "Original: 192.168.1.1\n",
      "Packed : b'\\xc0\\xa8\\x01\\x01'\n",
      "Unpacked: 192.168.1.1\n",
      "\n",
      "Original: 127.0.0.1\n",
      "Packed : b'\\x7f\\x00\\x00\\x01'\n",
      "Unpacked: 127.0.0.1\n",
      "\n"
     ]
    }
   ],
   "source": [
    "\n",
    "import binascii\n",
    "import socket\n",
    "import struct\n",
    "import sys\n",
    "\n",
    "for string_address in ['192.168.1.1', '127.0.0.1']:\n",
    "    packed = socket.inet_aton(string_address)\n",
    "    print('Original:', string_address)\n",
    "    print('Packed :', packed)\n",
    "    print('Unpacked:', socket.inet_ntoa(packed))\n",
    "    print()"
   ]
  },
  {
   "cell_type": "code",
   "execution_count": null,
   "metadata": {},
   "outputs": [
    {
     "name": "stdout",
     "output_type": "stream",
     "text": [
      "starting up on localhost port 10000\n",
      "waiting for а connection\n"
     ]
    }
   ],
   "source": [
    "import socket\n",
    "import sys\n",
    "sock = socket.socket(socket.AF_INET, socket.SOCK_STREAM)\n",
    "server_address = ('localhost', 10000)\n",
    "print('starting up on {} port {}'.format(*server_address))\n",
    "sock.bind(server_address)\n",
    "sock.listen(1)\n",
    "while True:\n",
    "    print('waiting for а connection')\n",
    "    connection, client_address = sock.accept()\n",
    "    try:\n",
    "        print('connection from', client_address)\n",
    "        while True:\n",
    "            data = connection.recv(1024)\n",
    "            print('received {!r}'.format(data))\n",
    "            if data:\n",
    "                print('sending data back to the client')\n",
    "                connection.sendall(data)\n",
    "            else:\n",
    "                print('no data from', client_address)\n",
    "                break\n",
    "    finally:\n",
    "            connection.close()"
   ]
  },
  {
   "cell_type": "code",
   "execution_count": null,
   "metadata": {},
   "outputs": [],
   "source": [
    "import socket\n",
    "import sys\n",
    "sock = socket.socket(socket.AF_INET, socket.SOCK_STREAM)\n",
    "server_address = ('localhost', 10000)\n",
    "print('connecting to {} port {}'.format(*server_address))\n",
    "sock.connect(server_address)\n",
    "try:\n",
    "    message = b'This is the message. It will be repeated.'\n",
    "    print('sending {!r}'.format(message))\n",
    "    sock.sendall(message)\n",
    "    amount_received = 0\n",
    "    amount_expected = len(message)\n",
    "    while amount_received < amount_expected:\n",
    "        data = sock.recv(1024)\n",
    "        amount_received += len(data)\n",
    "        print('received {!r}'.format(data))\n",
    "finally:\n",
    "    print('closing socket')\n",
    "    sock.close()"
   ]
  },
  {
   "cell_type": "code",
   "execution_count": null,
   "metadata": {},
   "outputs": [],
   "source": []
  }
 ],
 "metadata": {
  "kernelspec": {
   "display_name": "Python 3",
   "language": "python",
   "name": "python3"
  },
  "language_info": {
   "codemirror_mode": {
    "name": "ipython",
    "version": 3
   },
   "file_extension": ".py",
   "mimetype": "text/x-python",
   "name": "python",
   "nbconvert_exporter": "python",
   "pygments_lexer": "ipython3",
   "version": "3.7.4"
  }
 },
 "nbformat": 4,
 "nbformat_minor": 4
}
