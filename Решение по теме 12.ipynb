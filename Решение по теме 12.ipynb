{
 "cells": [
  {
   "cell_type": "markdown",
   "metadata": {},
   "source": [
    "__Задание 1__\n",
    "\n",
    "Создайте свой класс и с помощью pickle запишите его в файл под название \"MyClassInFile\""
   ]
  },
  {
   "cell_type": "code",
   "execution_count": 29,
   "metadata": {},
   "outputs": [
    {
     "name": "stdout",
     "output_type": "stream",
     "text": [
      "b'\\x80\\x03c__main__\\nMy_class\\nq\\x00)\\x81q\\x01.'\n",
      "<__main__.My_class object at 0x000001BAE9828548>\n"
     ]
    }
   ],
   "source": [
    "import pickle\n",
    "class My_class:\n",
    "    testData = {'Numbers': [1, 2, 3], 'Names': ('Irina', 'Alina', 'Marina')}\n",
    "    def test(testData):\n",
    "        return testData\n",
    "TD = My_class()\n",
    "print(pickle.dumps(TD))\n",
    "with open('MyClassInFile.pickle', 'wb') as f:\n",
    "    pickle.dump(TD, f)\n",
    "with open('MyClassInFile.pickle', 'rb') as f:\n",
    "    data_new = pickle.load(f)\n",
    "print(data_new)"
   ]
  },
  {
   "cell_type": "markdown",
   "metadata": {},
   "source": [
    "__Задание 2__\n",
    "\n",
    "С помощью shelve создайте файл \"MyFavoriteMovies\", и запишите в него названия своих любимых фильмов. В качестве ключей используйте имена режисеров"
   ]
  },
  {
   "cell_type": "code",
   "execution_count": 31,
   "metadata": {},
   "outputs": [
    {
     "name": "stdout",
     "output_type": "stream",
     "text": [
      "Гайдай  -  Кавказская пленница\n",
      "Меньшов  -  Розыгрыш\n",
      "Фрэнк Дарабонт  -  Зелёная миля\n"
     ]
    }
   ],
   "source": [
    "import shelve\n",
    " \n",
    "with shelve.open(\"MyFavoriteMovies\") as Movies:\n",
    "    Movies[\"Гайдай\"] = 'Кавказская пленница'\n",
    "    Movies[\"Меньшов\"] = \"Розыгрыш\"\n",
    "    Movies[\"Фрэнк Дарабонт\"] = \"Зелёная миля\"\n",
    "with shelve.open(\"MyFavoriteMovies\") as Movies:\n",
    "    for key in Movies:\n",
    "        print(key,\" - \", Movies[key])"
   ]
  },
  {
   "cell_type": "markdown",
   "metadata": {},
   "source": [
    "__Задание 3__\n",
    "\n",
    "Создайте таблицу employees и заполните ее данными, как на картинке. Повысьте зарплату на 1000 долларов всем работикам младше 30 лет и удалите из таблицы работников старше 40"
   ]
  },
  {
   "cell_type": "code",
   "execution_count": 32,
   "metadata": {},
   "outputs": [
    {
     "data": {
      "text/plain": [
       "<sqlite3.Cursor at 0x1bae9841030>"
      ]
     },
     "execution_count": 32,
     "metadata": {},
     "output_type": "execute_result"
    }
   ],
   "source": [
    "import sqlite3\n",
    "conn = sqlite3.connect(\"mydatabase.db\")\n",
    "cursor = conn.cursor()\n",
    "cursor.execute(\"CREATE TABLE employees (name text, salary$ text, age text)\")"
   ]
  },
  {
   "cell_type": "code",
   "execution_count": 33,
   "metadata": {},
   "outputs": [],
   "source": [
    "empl = [('John Doe', '5000', '35'),\n",
    "          ('Marie Paige', '6000', '25'),\n",
    "          ('Megan Flores', '3000', '29'),\n",
    "          ('Harmony Simmons', '4000', '42')]\n",
    "\n",
    "cursor.executemany(\"INSERT INTO employees VALUES (?,?,?)\", empl)\n",
    "conn.commit()"
   ]
  },
  {
   "cell_type": "code",
   "execution_count": 35,
   "metadata": {},
   "outputs": [
    {
     "data": {
      "text/plain": [
       "<sqlite3.Cursor at 0x1bae9841030>"
      ]
     },
     "execution_count": 35,
     "metadata": {},
     "output_type": "execute_result"
    }
   ],
   "source": [
    "sql = \"SELECT rowid, * FROM employees ORDER BY age\"\n",
    "cursor.execute(sql)"
   ]
  },
  {
   "cell_type": "code",
   "execution_count": 36,
   "metadata": {},
   "outputs": [
    {
     "data": {
      "text/plain": [
       "[(2, 'Marie Paige', '6000', '25'),\n",
       " (3, 'Megan Flores', '3000', '29'),\n",
       " (1, 'John Doe', '5000', '35'),\n",
       " (4, 'Harmony Simmons', '4000', '42')]"
      ]
     },
     "execution_count": 36,
     "metadata": {},
     "output_type": "execute_result"
    }
   ],
   "source": [
    "cursor.fetchall()"
   ]
  },
  {
   "cell_type": "code",
   "execution_count": 37,
   "metadata": {},
   "outputs": [],
   "source": [
    "sql = \"DELETE FROM employees WHERE age = '42'\"\n",
    "cursor.execute(sql)\n",
    "conn.commit()"
   ]
  },
  {
   "cell_type": "code",
   "execution_count": 39,
   "metadata": {},
   "outputs": [
    {
     "data": {
      "text/plain": [
       "[(2, 'Marie Paige', '6000', '25'),\n",
       " (3, 'Megan Flores', '3000', '29'),\n",
       " (1, 'John Doe', '5000', '35')]"
      ]
     },
     "execution_count": 39,
     "metadata": {},
     "output_type": "execute_result"
    }
   ],
   "source": [
    "sql = \"SELECT rowid, * FROM employees ORDER BY age\"\n",
    "cursor.execute(sql)\n",
    "cursor.fetchall()"
   ]
  },
  {
   "cell_type": "code",
   "execution_count": 40,
   "metadata": {},
   "outputs": [],
   "source": [
    "sql = \"\"\"\n",
    "UPDATE employees \n",
    "SET salary$ = '7000' \n",
    "WHERE age = '25'\n",
    "\"\"\"\n",
    "cursor.execute(sql)\n",
    "conn.commit()"
   ]
  },
  {
   "cell_type": "code",
   "execution_count": 41,
   "metadata": {},
   "outputs": [],
   "source": [
    "sql1 = \"\"\"\n",
    "UPDATE employees \n",
    "SET salary$ = '4000' \n",
    "WHERE age = '29'\n",
    "\"\"\"\n",
    "cursor.execute(sql1)\n",
    "conn.commit()"
   ]
  },
  {
   "cell_type": "code",
   "execution_count": 42,
   "metadata": {},
   "outputs": [
    {
     "data": {
      "text/plain": [
       "[(2, 'Marie Paige', '7000', '25'),\n",
       " (3, 'Megan Flores', '4000', '29'),\n",
       " (1, 'John Doe', '5000', '35')]"
      ]
     },
     "execution_count": 42,
     "metadata": {},
     "output_type": "execute_result"
    }
   ],
   "source": [
    "sql = \"SELECT rowid, * FROM employees ORDER BY age\"\n",
    "cursor.execute(sql)\n",
    "cursor.fetchall()"
   ]
  },
  {
   "cell_type": "code",
   "execution_count": null,
   "metadata": {},
   "outputs": [],
   "source": []
  }
 ],
 "metadata": {
  "kernelspec": {
   "display_name": "Python 3",
   "language": "python",
   "name": "python3"
  },
  "language_info": {
   "codemirror_mode": {
    "name": "ipython",
    "version": 3
   },
   "file_extension": ".py",
   "mimetype": "text/x-python",
   "name": "python",
   "nbconvert_exporter": "python",
   "pygments_lexer": "ipython3",
   "version": "3.7.4"
  }
 },
 "nbformat": 4,
 "nbformat_minor": 4
}
