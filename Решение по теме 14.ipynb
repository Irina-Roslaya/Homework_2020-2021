{
 "cells": [
  {
   "cell_type": "markdown",
   "metadata": {},
   "source": [
    "__Задание__\n",
    "\n",
    "Испльзуя класс Popen запустите процесс notepad.exe передайте процессу timeout=3, если процесс завершится до истечения времени, то выведите строчку \"Успех!\", иначе отловите ошибку TimeoutExpired и вывидите \"Провал!\""
   ]
  },
  {
   "cell_type": "code",
   "execution_count": 1,
   "metadata": {},
   "outputs": [],
   "source": [
    "import subprocess"
   ]
  },
  {
   "cell_type": "code",
   "execution_count": 11,
   "metadata": {},
   "outputs": [
    {
     "data": {
      "text/plain": [
       "0"
      ]
     },
     "execution_count": 11,
     "metadata": {},
     "output_type": "execute_result"
    }
   ],
   "source": [
    "subprocess.call('C:\\\\Users\\\\Mi\\\\Desktop\\\\Roslaya_Irina_Alexandrovna\\\\notepad.exe')"
   ]
  },
  {
   "cell_type": "code",
   "execution_count": 9,
   "metadata": {},
   "outputs": [
    {
     "name": "stdout",
     "output_type": "stream",
     "text": [
      "Успех!\n"
     ]
    }
   ],
   "source": [
    "notepad = subprocess.Popen('C:\\\\Users\\\\Mi\\\\Desktop\\\\Roslaya_Irina_Alexandrovna\\\\notepad.exe')\n",
    "try:\n",
    "    outs, errs = notepad.communicate(input=None, timeout=3)\n",
    "    print(\"Успех!\")\n",
    "except TimeoutExpired:\n",
    "    notepad.kill()\n",
    "    outs, errs = proc.communicate()\n",
    "    print(\"Провал!\")"
   ]
  },
  {
   "cell_type": "code",
   "execution_count": null,
   "metadata": {},
   "outputs": [],
   "source": []
  }
 ],
 "metadata": {
  "kernelspec": {
   "display_name": "Python 3",
   "language": "python",
   "name": "python3"
  },
  "language_info": {
   "codemirror_mode": {
    "name": "ipython",
    "version": 3
   },
   "file_extension": ".py",
   "mimetype": "text/x-python",
   "name": "python",
   "nbconvert_exporter": "python",
   "pygments_lexer": "ipython3",
   "version": "3.7.4"
  }
 },
 "nbformat": 4,
 "nbformat_minor": 4
}
