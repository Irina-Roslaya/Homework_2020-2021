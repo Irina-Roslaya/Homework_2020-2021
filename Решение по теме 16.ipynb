{
 "cells": [
  {
   "cell_type": "markdown",
   "metadata": {},
   "source": [
    "__Задание__"
   ]
  },
  {
   "cell_type": "markdown",
   "metadata": {},
   "source": [
    "Задание: модифицировать приведенный выше код socketserver так, чтобы сервер возвращал отправленные сообщения длиной менее 10 символов в исходном виде, в ином случае от сообщения должны браться первые 10 символов сообщения."
   ]
  },
  {
   "cell_type": "code",
   "execution_count": null,
   "metadata": {},
   "outputs": [],
   "source": [
    "import socketserver\n",
    "\n",
    "class MyTCPHandler(socketserver.BaseRequestHandler):\n",
    "    \"\"\"\n",
    "    The request handler class for our server.\n",
    "\n",
    "    It is instantiated once per connection to the server, and must\n",
    "    override the handle() method to implement communication to the\n",
    "    client.\n",
    "    \"\"\"\n",
    "\n",
    "    def handle(self):\n",
    "        # self.request is the TCP socket connected to the client\n",
    "        self.data = self.request.recv(1024).strip()\n",
    "        print(\"{} wrote:\".format(self.client_address[0]))\n",
    "        print(self.data)\n",
    "        if len(self.data)<10:\n",
    "            self.request.sendall(self.data.upper())\n",
    "        else:\n",
    "            self.request.sendall((self.data.upper())[:10])\n",
    "\n",
    "if __name__ == \"__main__\":\n",
    "    HOST, PORT = \"localhost\", 9999\n",
    "\n",
    "    # Create the server, binding to localhost on port 9999\n",
    "    with socketserver.TCPServer((HOST, PORT), MyTCPHandler) as server:\n",
    "        # Activate the server; this will keep running until you\n",
    "        # interrupt the program with Ctrl-C\n",
    "        server.serve_forever()"
   ]
  },
  {
   "cell_type": "code",
   "execution_count": null,
   "metadata": {},
   "outputs": [],
   "source": []
  }
 ],
 "metadata": {
  "kernelspec": {
   "display_name": "Python 3",
   "language": "python",
   "name": "python3"
  },
  "language_info": {
   "codemirror_mode": {
    "name": "ipython",
    "version": 3
   },
   "file_extension": ".py",
   "mimetype": "text/x-python",
   "name": "python",
   "nbconvert_exporter": "python",
   "pygments_lexer": "ipython3",
   "version": "3.7.4"
  }
 },
 "nbformat": 4,
 "nbformat_minor": 4
}
