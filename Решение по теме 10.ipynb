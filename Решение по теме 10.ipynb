{
 "cells": [
  {
   "cell_type": "markdown",
   "metadata": {},
   "source": [
    "__Задание № 1__\n",
    "\n",
    "Создайте такую же структуру файлов,как указанно в начале, и с помощью модуля glob выведите одним ответом файлы file[.txt, filel.txt file2.txt, filea.txt"
   ]
  },
  {
   "cell_type": "code",
   "execution_count": 6,
   "metadata": {},
   "outputs": [
    {
     "name": "stdout",
     "output_type": "stream",
     "text": [
      "dir\\file[.txt\n",
      "\n",
      "dir\\filel.txt\n",
      "\n",
      "dir\\file2.txt\n",
      "\n",
      "dir\\filea.txt\n",
      "\n"
     ]
    }
   ],
   "source": [
    "import glob\n",
    "specials = \"[l2a\"\n",
    "\n",
    "for char in specials:\n",
    "    pattern = 'dir/*' + glob.escape(char) + '.txt'\n",
    "    for name in sorted(glob.glob(pattern)):\n",
    "        print(name)\n",
    "    print()"
   ]
  },
  {
   "cell_type": "markdown",
   "metadata": {},
   "source": [
    "__Задание № 2__\n",
    "\n",
    "Возьмите произвольный текст и с помощью модуля linecache выведите из этого текста первую и последнюю строчку, несуществующую строчку(по номеру), а также попробуйте открывать файл,которого не существует."
   ]
  },
  {
   "cell_type": "code",
   "execution_count": 16,
   "metadata": {},
   "outputs": [],
   "source": [
    "import os\n",
    "import tempfile\n",
    "\n",
    "lorem = '''Lorem ipsum dolor sit amet, consectetuer\n",
    "adipiscing elit.  Vivamus eget elit. In posuere mi non\n",
    "risus. Mauris id quam posuere lectus sollicitudin\n",
    "varius. Praesent at mi. Nunc eu velit. Sed augue massa,\n",
    "fermentum id, nonummy a, nonummy sit amet, ligula. Curabitur\n",
    "eros pede, egestas at, ultricies ac, apellentesque eu,\n",
    "tellus.\n",
    "\n",
    "Sed sed odio sed mi luctus mollis. Integer et nulla ac augue\n",
    "convallis accumsan. Ut felis. Donec lectus sapien, elementum\n",
    "nec, condimentum ac, interdum non, tellus. Aenean viverra,\n",
    "mauris vehicula semper porttitor, ipsum odio consectetuer\n",
    "lorem, ac imperdiet eros odio a sapien. Nulla mauris tellus,\n",
    "aliquam non, egestas a, nonummy et, erat. Vivamus sagittis\n",
    "porttitor eros.'''\n",
    "\n",
    "\n",
    "def make_tempfile():\n",
    "    fd, temp_file_name = tempfile.mkstemp()\n",
    "    os.close(fd)\n",
    "    with open(temp_file_name, 'wt') as f:\n",
    "        f.write(lorem)\n",
    "    return temp_file_name\n",
    "\n",
    "\n",
    "def cleanup(filename):\n",
    "    os.unlink(filename)"
   ]
  },
  {
   "cell_type": "code",
   "execution_count": 21,
   "metadata": {},
   "outputs": [
    {
     "name": "stdout",
     "output_type": "stream",
     "text": [
      "Первая:\n",
      "'Lorem ipsum dolor sit amet, consectetuer\\n'\n",
      "Последняя:\n",
      "'porttitor eros.\\n'\n",
      "Несуществующая:\n",
      "''\n"
     ]
    }
   ],
   "source": [
    "import linecache\n",
    "\n",
    "filename = make_tempfile()\n",
    "\n",
    "print('Первая:')\n",
    "print('{!r}'.format(linecache.getline(filename, 1)))\n",
    "print('Последняя:')\n",
    "print('{!r}'.format(linecache.getline(filename, 15)))\n",
    "print('Несуществующая:')\n",
    "print('{!r}'.format(linecache.getline(filename, 17)))\n",
    "cleanup(filename)"
   ]
  },
  {
   "cell_type": "code",
   "execution_count": 22,
   "metadata": {},
   "outputs": [
    {
     "name": "stdout",
     "output_type": "stream",
     "text": [
      "NO FILE: ''\n"
     ]
    }
   ],
   "source": [
    "no_such_file = linecache.getline(\"this_file_does_not_exist.txt\", 1,)\n",
    "print(\"NO FILE: {!r}\".format(no_such_file)) "
   ]
  },
  {
   "cell_type": "code",
   "execution_count": null,
   "metadata": {},
   "outputs": [],
   "source": []
  }
 ],
 "metadata": {
  "kernelspec": {
   "display_name": "Python 3",
   "language": "python",
   "name": "python3"
  },
  "language_info": {
   "codemirror_mode": {
    "name": "ipython",
    "version": 3
   },
   "file_extension": ".py",
   "mimetype": "text/x-python",
   "name": "python",
   "nbconvert_exporter": "python",
   "pygments_lexer": "ipython3",
   "version": "3.7.4"
  }
 },
 "nbformat": 4,
 "nbformat_minor": 4
}
