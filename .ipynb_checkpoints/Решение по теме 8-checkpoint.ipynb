{
 "cells": [
  {
   "cell_type": "markdown",
   "metadata": {},
   "source": [
    "Задание 1"
   ]
  },
  {
   "cell_type": "markdown",
   "metadata": {},
   "source": [
    "С помощью модуля math вычислить площадь круга с радиусом = логорифм e по основанию 2"
   ]
  },
  {
   "cell_type": "code",
   "execution_count": 1,
   "metadata": {},
   "outputs": [
    {
     "name": "stdout",
     "output_type": "stream",
     "text": [
      "6.538813500136891\n"
     ]
    }
   ],
   "source": [
    "import math\n",
    "S = (math.pi)* math.pow(math.log2(math.e),2)\n",
    "print(S)"
   ]
  },
  {
   "cell_type": "markdown",
   "metadata": {},
   "source": [
    "Задание 2"
   ]
  },
  {
   "cell_type": "markdown",
   "metadata": {},
   "source": [
    "С помощью модуля statistics найдите population variance и population standart deviation от последовательности среднего арифметического, среднего геометрического и среднего гармонического от 30 случайных чисел"
   ]
  },
  {
   "cell_type": "code",
   "execution_count": 19,
   "metadata": {},
   "outputs": [
    {
     "name": "stdout",
     "output_type": "stream",
     "text": [
      "[62, 92, 94, 17, 40, 81, 26, 87, 77, 57, 71, 90, 33, 67, 94, 6, 70, 56, 38, 27, 53, 92, 80, 84, 33, 85, 32, 12, 23, 43]\n",
      "Population variance:  77.44245426228629\n",
      "Population standart deviation:  8.800139445615978\n"
     ]
    }
   ],
   "source": [
    "import statistics as st\n",
    "from scipy.stats.mstats import gmean\n",
    "import random\n",
    "s=[]\n",
    "for i in range(30): \n",
    "    s.append(random.randint(0, 100))\n",
    "print(s)\n",
    "a = st.mean(s)\n",
    "g = gmean(s)\n",
    "h = st.harmonic_mean(s)\n",
    "print('Population variance: ',st.pvariance([a,g,h]))\n",
    "print('Population standart deviation: ',st.pstdev([a,g,h]))"
   ]
  },
  {
   "cell_type": "code",
   "execution_count": null,
   "metadata": {},
   "outputs": [],
   "source": []
  }
 ],
 "metadata": {
  "kernelspec": {
   "display_name": "Python 3",
   "language": "python",
   "name": "python3"
  },
  "language_info": {
   "codemirror_mode": {
    "name": "ipython",
    "version": 3
   },
   "file_extension": ".py",
   "mimetype": "text/x-python",
   "name": "python",
   "nbconvert_exporter": "python",
   "pygments_lexer": "ipython3",
   "version": "3.7.4"
  }
 },
 "nbformat": 4,
 "nbformat_minor": 4
}
