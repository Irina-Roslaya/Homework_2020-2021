{
 "cells": [
  {
   "cell_type": "markdown",
   "metadata": {},
   "source": [
    "__Задание 1__"
   ]
  },
  {
   "cell_type": "markdown",
   "metadata": {},
   "source": [
    "Дана произвольная строка. Вывести наименее часто встречающиеся элементы."
   ]
  },
  {
   "cell_type": "code",
   "execution_count": 16,
   "metadata": {},
   "outputs": [
    {
     "data": {
      "text/plain": [
       "[('j', 1),\n",
       " ('h', 1),\n",
       " ('g', 1),\n",
       " ('t', 2),\n",
       " ('f', 2),\n",
       " ('d', 3),\n",
       " ('a', 6),\n",
       " ('s', 11)]"
      ]
     },
     "execution_count": 16,
     "metadata": {},
     "output_type": "execute_result"
    }
   ],
   "source": [
    "import collections as cl\n",
    "string=\"aaaaaasssssssssssdddffttghj\"\n",
    "c = len(cl.Counter(string))\n",
    "cl.Counter(string).most_common()[:-c-1 :-1]"
   ]
  },
  {
   "cell_type": "markdown",
   "metadata": {},
   "source": [
    "__Задание 2__"
   ]
  },
  {
   "cell_type": "markdown",
   "metadata": {},
   "source": [
    "С помощью каждого из первых двух изученных модулей создать массивы из 5 переменных с некоторыми значениями, увеличить каждое значение в три раза и добавить новый элемент со значением 1"
   ]
  },
  {
   "cell_type": "code",
   "execution_count": 97,
   "metadata": {},
   "outputs": [
    {
     "name": "stdout",
     "output_type": "stream",
     "text": [
      "calculus = 3\n",
      "fizra = 6\n",
      "python = 9\n",
      "algebra = 12\n",
      "english = 3\n",
      "OS = 1\n"
     ]
    }
   ],
   "source": [
    "from enum import Enum\n",
    "from enum import IntEnum\n",
    "class Study(Enum):\n",
    "    calculus=1\n",
    "    fizra=2 \n",
    "    python=3\n",
    "    algebra=4\n",
    "    english=1\n",
    "class Study1(Enum):\n",
    "    calculus = Study.calculus.value * 3\n",
    "    fizra=Study.fizra.value * 3\n",
    "    python=Study.python.value * 3\n",
    "    algebra=Study.algebra.value * 3\n",
    "    english=Study.english.value * 3\n",
    "    OS=1\n",
    "for name, member in Study1.__members__.items():\n",
    "    print(name,\"=\", member.value)"
   ]
  },
  {
   "cell_type": "code",
   "execution_count": 107,
   "metadata": {},
   "outputs": [
    {
     "name": "stdout",
     "output_type": "stream",
     "text": [
      "Counter({'algebra': 12, 'python': 9, 'fizra': 6, 'calculus': 3, 'english': 3})\n",
      "deque(['calculus', 'calculus', 'calculus', 'fizra', 'fizra', 'fizra', 'fizra', 'fizra', 'fizra', 'python', 'python', 'python', 'python', 'python', 'python', 'python', 'python', 'python', 'algebra', 'algebra', 'algebra', 'algebra', 'algebra', 'algebra', 'algebra', 'algebra', 'algebra', 'algebra', 'algebra', 'algebra', 'english', 'english', 'english', 'OS'], maxlen=40)\n",
      "Counter({'algebra': 12, 'python': 9, 'fizra': 6, 'calculus': 3, 'english': 3, 'OS': 1})\n"
     ]
    }
   ],
   "source": [
    "import collections as cl\n",
    "c=cl.Counter(calculus=1,fizra=2,python=3,algebra=4,english=1)\n",
    "cc=c+c+c\n",
    "print(cc)\n",
    "h=cl.deque(list(cc.elements()),40)\n",
    "h.append('OS')\n",
    "print(h)\n",
    "hh=cl.Counter({'algebra' : h.count('algebra'),'python' : h.count('python'), 'fizra': h.count('fizra'),'calculus' : h.count('calculus'),'english': h.count('english'), 'OS' : h.count('OS') })\n",
    "print(hh)"
   ]
  },
  {
   "cell_type": "code",
   "execution_count": null,
   "metadata": {},
   "outputs": [],
   "source": []
  }
 ],
 "metadata": {
  "kernelspec": {
   "display_name": "Python 3",
   "language": "python",
   "name": "python3"
  },
  "language_info": {
   "codemirror_mode": {
    "name": "ipython",
    "version": 3
   },
   "file_extension": ".py",
   "mimetype": "text/x-python",
   "name": "python",
   "nbconvert_exporter": "python",
   "pygments_lexer": "ipython3",
   "version": "3.7.4"
  }
 },
 "nbformat": 4,
 "nbformat_minor": 4
}
