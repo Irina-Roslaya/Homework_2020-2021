{
 "cells": [
  {
   "cell_type": "markdown",
   "metadata": {},
   "source": [
    "__Домашнее задание__\n",
    "\n",
    "предварительно создать в текущей директории произвольный текстовый файл, с которым будем работать\n",
    "\n",
    "скопировать файл в другой файл и проверить, что они совпадают\n",
    "\n",
    "создать архив из скопированного файла\n",
    "\n",
    "с помощью mmap прочитать изначальный файл (получится байт строка) и декодировать её (дабы избежать ошибок, рекомендую использовать errors = \"ignore\")"
   ]
  },
  {
   "cell_type": "code",
   "execution_count": 28,
   "metadata": {},
   "outputs": [
    {
     "name": "stdout",
     "output_type": "stream",
     "text": [
      "Привет, я - Ира!\n",
      "Привет, я - Ира!\n"
     ]
    }
   ],
   "source": [
    "import shutil\n",
    "shutil.copyfile(\"C:\\\\Users\\\\Mi\\\\my_project\\\\Homework_2020-2021\\\\Irina.txt\", \"C:\\\\Users\\\\Mi\\\\my_project\\\\Homework_2020-2021\\\\Irina1.txt\")\n",
    "with open(\"Irina.txt\", \"r\", encoding = \"UTF-8\") as fsrc:\n",
    "    with open(\"Irina1.txt\", \"r\", encoding = \"UTF-8\") as fdst:\n",
    "        print(fsrc.read())\n",
    "        print(fdst.read())"
   ]
  },
  {
   "cell_type": "code",
   "execution_count": 38,
   "metadata": {},
   "outputs": [
    {
     "data": {
      "text/plain": [
       "'C:\\\\Users\\\\Mi\\\\my_project\\\\Homework_2020-2021\\\\Irina1.zip'"
      ]
     },
     "execution_count": 38,
     "metadata": {},
     "output_type": "execute_result"
    }
   ],
   "source": [
    "import shutil\n",
    "shutil.make_archive(\"C:\\\\Users\\\\Mi\\\\my_project\\\\Homework_2020-2021\\\\Irina1\", \"zip\",\"C:\\\\Users\\\\Mi\\\\my_project\\\\Homework_2020-2021\", \"Irina1.txt\")"
   ]
  },
  {
   "cell_type": "code",
   "execution_count": 45,
   "metadata": {},
   "outputs": [
    {
     "name": "stdout",
     "output_type": "stream",
     "text": [
      "b'\\xd0\\x9f\\xd1\\x80\\xd0\\xb8\\xd0\\xb2\\xd0\\xb5\\xd1\\x82, \\xd1\\x8f - \\xd0\\x98\\xd1\\x80\\xd0\\xb0!'\n"
     ]
    }
   ],
   "source": [
    "import mmap\n",
    "with open(\"Irina.txt\", \"r\", encoding = \"utf-8\") as file:\n",
    "    with mmap.mmap(file.fileno(), length=0, access=mmap.ACCESS_READ) as mmap_obj:\n",
    "        t=mmap_obj.read()\n",
    "        print(t)"
   ]
  },
  {
   "cell_type": "code",
   "execution_count": 46,
   "metadata": {},
   "outputs": [
    {
     "data": {
      "text/plain": [
       "'Привет, я - Ира!'"
      ]
     },
     "execution_count": 46,
     "metadata": {},
     "output_type": "execute_result"
    }
   ],
   "source": [
    "import codecs\n",
    "codecs.decode(t,encoding = \"utf-8\", errors = \"ignore\")"
   ]
  },
  {
   "cell_type": "code",
   "execution_count": null,
   "metadata": {},
   "outputs": [],
   "source": []
  }
 ],
 "metadata": {
  "kernelspec": {
   "display_name": "Python 3",
   "language": "python",
   "name": "python3"
  },
  "language_info": {
   "codemirror_mode": {
    "name": "ipython",
    "version": 3
   },
   "file_extension": ".py",
   "mimetype": "text/x-python",
   "name": "python",
   "nbconvert_exporter": "python",
   "pygments_lexer": "ipython3",
   "version": "3.7.4"
  }
 },
 "nbformat": 4,
 "nbformat_minor": 4
}
