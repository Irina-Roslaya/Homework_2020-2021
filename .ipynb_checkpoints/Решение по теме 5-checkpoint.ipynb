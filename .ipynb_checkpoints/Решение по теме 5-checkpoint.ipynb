{
 "cells": [
  {
   "cell_type": "markdown",
   "metadata": {},
   "source": [
    "__Задание 1__"
   ]
  },
  {
   "cell_type": "markdown",
   "metadata": {},
   "source": [
    "С помощью методов itertools.compress и itertools.cycle создать список чётных чисел в интервале [0; 10]."
   ]
  },
  {
   "cell_type": "code",
   "execution_count": 1,
   "metadata": {},
   "outputs": [],
   "source": [
    "import itertools\n",
    "\n",
    "def even_nums():\n",
    "    l=[]\n",
    "    for _ in zip(range(11), itertools.cycle(\"10\")):\n",
    "        l.append(int(_[1])) \n",
    "    r=list(itertools.compress(range(11), l))\n",
    "    return(r)\n",
    "    pass \n",
    "\n",
    "assert even_nums() == [0, 2, 4, 6, 8, 10]"
   ]
  },
  {
   "cell_type": "markdown",
   "metadata": {},
   "source": [
    "__Задание 2__"
   ]
  },
  {
   "cell_type": "markdown",
   "metadata": {},
   "source": [
    "Реализовать функцию from_digits, которая с помощью метода functools.reduce превращает список цифр в число. Аргумент функции from_digits — digits обязательно должен быть ключевым.\n",
    "\n",
    "Тесты:\n",
    "\n",
    "from_digits(digits = [1, 0, 2]) → 102\n",
    "\n",
    "from_digits(digits = [3, 2, 1, 4, 5, 7]) → 321457\n",
    "\n",
    "from_digits(digits = []) → \"Error: 'Список цифр должен быть не пуст!'\""
   ]
  },
  {
   "cell_type": "code",
   "execution_count": 2,
   "metadata": {},
   "outputs": [],
   "source": [
    "import functools\n",
    "\n",
    "def from_digits(digits: list):\n",
    "    try:\n",
    "        return functools.reduce(lambda x, y: 10*x + y, digits)\n",
    "    except TypeError:\n",
    "        return \"Error: 'Список цифр должен быть не пуст!'\"\n",
    "    pass\n",
    "\n",
    "assert from_digits(digits = [1, 0, 2]) == 102\n",
    "assert from_digits(digits = [3, 2, 1, 4, 5, 7]) == 321457\n",
    "assert from_digits(digits = []) == \"Error: 'Список цифр должен быть не пуст!'\""
   ]
  },
  {
   "cell_type": "markdown",
   "metadata": {},
   "source": [
    "__Задание 3__"
   ]
  },
  {
   "cell_type": "markdown",
   "metadata": {},
   "source": [
    "С помощью метода из модуля operator создайте функцию, которая отсортирует словарь по возрастанию его значений\n",
    "\n",
    "\n",
    "Тесты:\n",
    "\n",
    "sort_dict({1: -10, 2: 10, 3: 0}) → {1: -10, 3: 0, 2: 10}\n",
    "\n",
    "sort_dict({1: -1, 2: -2, 3: -6}) → {3: -6, 2: -2, 1: -1}\n",
    "\n",
    "sort_dict({}) → {}"
   ]
  },
  {
   "cell_type": "code",
   "execution_count": 8,
   "metadata": {},
   "outputs": [],
   "source": [
    "import operator\n",
    "\n",
    "def sort_dict(d: dict):\n",
    "    return dict(sorted(d.items(), key = operator.itemgetter(1)))\n",
    "    pass\n",
    "\n",
    "assert sort_dict({1: -10, 2: 10, 3: 0}) == {1: -10, 3: 0, 2: 10}\n",
    "assert sort_dict({1: -1, 2: -2, 3: -6}) == {3: -6, 2: -2, 1: -1}\n",
    "assert sort_dict({}) == {}"
   ]
  },
  {
   "cell_type": "code",
   "execution_count": null,
   "metadata": {},
   "outputs": [],
   "source": []
  }
 ],
 "metadata": {
  "kernelspec": {
   "display_name": "Python 3",
   "language": "python",
   "name": "python3"
  },
  "language_info": {
   "codemirror_mode": {
    "name": "ipython",
    "version": 3
   },
   "file_extension": ".py",
   "mimetype": "text/x-python",
   "name": "python",
   "nbconvert_exporter": "python",
   "pygments_lexer": "ipython3",
   "version": "3.7.4"
  }
 },
 "nbformat": 4,
 "nbformat_minor": 4
}
