{
 "cells": [
  {
   "cell_type": "markdown",
   "metadata": {},
   "source": [
    "__Задание 1__\n",
    "\n",
    "1. Подключить автоматический сборщик мусора с пороговым значением, равным 6 для первого поколения (для второго и третьего оставить по умолчанию)"
   ]
  },
  {
   "cell_type": "code",
   "execution_count": 3,
   "metadata": {},
   "outputs": [
    {
     "data": {
      "text/plain": [
       "(6, 10, 10)"
      ]
     },
     "execution_count": 3,
     "metadata": {},
     "output_type": "execute_result"
    }
   ],
   "source": [
    "import gc\n",
    "gc.enable()\n",
    "gc.set_threshold(6,gc.get_threshold()[1] , gc.get_threshold()[2])\n",
    "gc.get_threshold()"
   ]
  },
  {
   "cell_type": "markdown",
   "metadata": {},
   "source": [
    "__Задание 2__\n",
    "\n",
    "2. Напишите рекурсивную функцию fib, вычисляющую n-ое число Фибоначчи (так, чтобы внутри был всего один рекурсивный вызов fib). fib внутри себя устанавливает случайный предел рекурсии (от 64 до 1000). Если вычисления не происходят из-за нарушения предела рекурсии, fib возвращает \"не повезло\"."
   ]
  },
  {
   "cell_type": "code",
   "execution_count": 18,
   "metadata": {},
   "outputs": [],
   "source": [
    "import sys\n",
    "import random\n",
    "def fib(n):\n",
    "    sys.setrecursionlimit(random.randint(64,1000))\n",
    "    try:\n",
    "        if n <= 1:\n",
    "            return (n,0)\n",
    "        else:\n",
    "            (a, b) = fib(n - 1)\n",
    "            return (a + b, a)\n",
    "    except:\n",
    "        return \"не повезло\""
   ]
  },
  {
   "cell_type": "code",
   "execution_count": 19,
   "metadata": {},
   "outputs": [
    {
     "name": "stdout",
     "output_type": "stream",
     "text": [
      "4181\n",
      "не повезло\n"
     ]
    }
   ],
   "source": [
    "print(fib(20)[1])\n",
    "print(fib(6000))"
   ]
  },
  {
   "cell_type": "markdown",
   "metadata": {},
   "source": [
    "__Задание 3__\n",
    "\n",
    "3. Получите имя папки в текущей директории, в которой меньше всего файлов (не вложенных папок!)"
   ]
  },
  {
   "cell_type": "code",
   "execution_count": 45,
   "metadata": {},
   "outputs": [
    {
     "data": {
      "text/plain": [
       "'C:\\\\Users\\\\Mi\\\\my_project\\\\Homework_2020-2021\\\\.git\\\\logs\\\\refs'"
      ]
     },
     "execution_count": 45,
     "metadata": {},
     "output_type": "execute_result"
    }
   ],
   "source": [
    "import os\n",
    "mydir=list(os.walk(os.getcwd()))[1:]\n",
    "min(mydir,key=lambda i: len(i[2]))[0]"
   ]
  },
  {
   "cell_type": "markdown",
   "metadata": {},
   "source": [
    "__Задание 4__\n",
    "\n",
    "4. Определите, сколько лет назад был собран Ваш интерпретатор. Выведите \"пора обновиться\", если интерпретатору не 0 лет."
   ]
  },
  {
   "cell_type": "code",
   "execution_count": 48,
   "metadata": {},
   "outputs": [
    {
     "name": "stdout",
     "output_type": "stream",
     "text": [
      "пора обновиться\n"
     ]
    }
   ],
   "source": [
    "import platform\n",
    "year1=int(platform.python_build()[1][7:11])\n",
    "years=2020-year1\n",
    "if years>0:\n",
    "    print(\"пора обновиться\")"
   ]
  },
  {
   "cell_type": "code",
   "execution_count": null,
   "metadata": {},
   "outputs": [],
   "source": []
  }
 ],
 "metadata": {
  "kernelspec": {
   "display_name": "Python 3",
   "language": "python",
   "name": "python3"
  },
  "language_info": {
   "codemirror_mode": {
    "name": "ipython",
    "version": 3
   },
   "file_extension": ".py",
   "mimetype": "text/x-python",
   "name": "python",
   "nbconvert_exporter": "python",
   "pygments_lexer": "ipython3",
   "version": "3.7.4"
  }
 },
 "nbformat": 4,
 "nbformat_minor": 4
}
