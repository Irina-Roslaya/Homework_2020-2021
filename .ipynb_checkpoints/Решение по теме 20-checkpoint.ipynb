{
 "cells": [
  {
   "cell_type": "markdown",
   "metadata": {},
   "source": [
    "__Задание__\n",
    "\n",
    "Отформатировать числа (321.3, 12345,8974) в (321.3zł, 12345zł,8974zł).zł - Польский злотый"
   ]
  },
  {
   "cell_type": "code",
   "execution_count": 29,
   "metadata": {},
   "outputs": [
    {
     "name": "stdout",
     "output_type": "stream",
     "text": [
      "( 321,30 zł, 12345,00 zł, 8974,00 zł)\n"
     ]
    }
   ],
   "source": [
    "import locale\n",
    "s=(321.3, 12345,8974)\n",
    "locale.setlocale(locale.LC_ALL, 'pl_PL')\n",
    "print('({:>10}, {:>10}, {:>10})'.format(\n",
    "    locale.currency(s[0]),\n",
    "    locale.currency(s[1]),\n",
    "    locale.currency(s[2])\n",
    "))"
   ]
  }
 ],
 "metadata": {
  "kernelspec": {
   "display_name": "Python 3",
   "language": "python",
   "name": "python3"
  },
  "language_info": {
   "codemirror_mode": {
    "name": "ipython",
    "version": 3
   },
   "file_extension": ".py",
   "mimetype": "text/x-python",
   "name": "python",
   "nbconvert_exporter": "python",
   "pygments_lexer": "ipython3",
   "version": "3.7.4"
  }
 },
 "nbformat": 4,
 "nbformat_minor": 4
}
