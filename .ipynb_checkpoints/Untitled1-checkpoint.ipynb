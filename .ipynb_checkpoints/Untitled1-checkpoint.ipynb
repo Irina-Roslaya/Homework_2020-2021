{
 "cells": [
  {
   "cell_type": "markdown",
   "metadata": {},
   "source": [
    "__Задание__\n",
    "\n",
    "Испльзуя класс Popen запустите процесс notepad.exe передайте процессу timeout=3, если процесс завершится до истечения времени, то выведите строчку \"Успех!\", иначе отловите ошибку TimeoutExpired и вывидите \"Провал!\""
   ]
  },
  {
   "cell_type": "code",
   "execution_count": 1,
   "metadata": {},
   "outputs": [],
   "source": [
    "import subprocess"
   ]
  },
  {
   "cell_type": "code",
   "execution_count": null,
   "metadata": {},
   "outputs": [],
   "source": [
    "with subprocess.Popen([\"notepad.exe\"]) as proc:\n",
    "    proc.communicate(input=None, timeout=3)"
   ]
  },
  {
   "cell_type": "code",
   "execution_count": null,
   "metadata": {},
   "outputs": [],
   "source": []
  }
 ],
 "metadata": {
  "kernelspec": {
   "display_name": "Python 3",
   "language": "python",
   "name": "python3"
  },
  "language_info": {
   "codemirror_mode": {
    "name": "ipython",
    "version": 3
   },
   "file_extension": ".py",
   "mimetype": "text/x-python",
   "name": "python",
   "nbconvert_exporter": "python",
   "pygments_lexer": "ipython3",
   "version": "3.7.4"
  }
 },
 "nbformat": 4,
 "nbformat_minor": 4
}
