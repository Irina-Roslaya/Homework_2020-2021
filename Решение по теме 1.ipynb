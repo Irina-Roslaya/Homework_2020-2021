{
 "cells": [
  {
   "cell_type": "markdown",
   "metadata": {},
   "source": [
    "__Задание 1__"
   ]
  },
  {
   "cell_type": "markdown",
   "metadata": {},
   "source": [
    "Нужно ввести предложение и сделать динамическую границу вокруг этого предложения. Граница должна иметь ширину, которая вводится. Когда длина предложения превышает заданную ширину, необходимо напечатать новую строку и изменить высоту границы . Предложение также должно быть центрировано в динамической границе."
   ]
  },
  {
   "cell_type": "code",
   "execution_count": 15,
   "metadata": {},
   "outputs": [
    {
     "name": "stdin",
     "output_type": "stream",
     "text": [
      "sentence:  You are only young once, but you can stay immature indefinitely.\n",
      "width:  26\n"
     ]
    },
    {
     "name": "stdout",
     "output_type": "stream",
     "text": [
      "+----------------------------+\n",
      "|  You are only young once,  |\n",
      "| but you can stay immature  |\n",
      "|       indefinitely.        |\n",
      "+----------------------------+\n"
     ]
    }
   ],
   "source": [
    "import textwrap \n",
    "\n",
    "sentence = input('sentence: ')\n",
    "width = int(input('width: '))\n",
    "\n",
    "print('+-' + '-' * width + '-+')\n",
    "\n",
    "for line in textwrap.wrap(sentence, width):\n",
    "    print('| {0:^{1}} |'.format(line, width))\n",
    "\n",
    "print('+-' + '-'*(width) + '-+')"
   ]
  },
  {
   "cell_type": "markdown",
   "metadata": {},
   "source": [
    "__Задание 2__"
   ]
  },
  {
   "cell_type": "markdown",
   "metadata": {},
   "source": [
    "Дана строка, содержащая натуральные числа и слова. Необходимо сформировать список из чисел, содержащихся в этой строке. Например, задана строка \"abc83 cde7 1 b 24\". На выходе мы должны получить список [83, 7, 1, 24]"
   ]
  },
  {
   "cell_type": "code",
   "execution_count": 17,
   "metadata": {},
   "outputs": [
    {
     "name": "stdin",
     "output_type": "stream",
     "text": [
      "Строка:  \"abc83 cde7 1 b 24\"\n"
     ]
    },
    {
     "name": "stdout",
     "output_type": "stream",
     "text": [
      "[83, 7, 1, 24]\n"
     ]
    }
   ],
   "source": [
    "import re\n",
    "s = input(\"Строка: \")\n",
    "numbers = re.findall(r'\\d+', s)\n",
    "numbers = [int(i) for i in numbers]\n",
    "print(numbers)"
   ]
  },
  {
   "cell_type": "markdown",
   "metadata": {},
   "source": [
    "__Задание 3__"
   ]
  },
  {
   "cell_type": "markdown",
   "metadata": {},
   "source": [
    "Выделите общую часть из двух строк с помощью модуля difflib:\n",
    "s1 = u'А роза упала на лапу Азора'\n",
    "s2 = u'Дай, Джим, на счастье лапу мне' "
   ]
  },
  {
   "cell_type": "code",
   "execution_count": 62,
   "metadata": {},
   "outputs": [
    {
     "data": {
      "text/plain": [
       "' лапу '"
      ]
     },
     "execution_count": 62,
     "metadata": {},
     "output_type": "execute_result"
    }
   ],
   "source": [
    "import difflib \n",
    "s1 = u'А роза упала на лапу Азора'\n",
    "s2 = u'Дай, Джим, на счастье лапу мне'\n",
    "matcher = difflib.SequenceMatcher(None, s1, s2)\n",
    "m = matcher.find_longest_match(0, len(s1), 0, len(s2))\n",
    "s1[m.a:m.b]"
   ]
  },
  {
   "cell_type": "code",
   "execution_count": null,
   "metadata": {},
   "outputs": [],
   "source": []
  }
 ],
 "metadata": {
  "kernelspec": {
   "display_name": "Python 3",
   "language": "python",
   "name": "python3"
  },
  "language_info": {
   "codemirror_mode": {
    "name": "ipython",
    "version": 3
   },
   "file_extension": ".py",
   "mimetype": "text/x-python",
   "name": "python",
   "nbconvert_exporter": "python",
   "pygments_lexer": "ipython3",
   "version": "3.7.4"
  }
 },
 "nbformat": 4,
 "nbformat_minor": 4
}
