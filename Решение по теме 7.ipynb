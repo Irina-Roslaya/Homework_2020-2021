{
 "cells": [
  {
   "cell_type": "markdown",
   "metadata": {},
   "source": [
    "__Задания по  теории__"
   ]
  },
  {
   "cell_type": "markdown",
   "metadata": {},
   "source": [
    "1) Можно ли смешивать числа типа decimal с объектами типа int? float?\n",
    "2) Какие атрибуты и методы fractions вы знаете?\n",
    "3) За что отвечает третий аргумент метода модуля random randome.randrange(a,b,x)? Обязателен ли он для задания?"
   ]
  },
  {
   "cell_type": "markdown",
   "metadata": {},
   "source": [
    "1) С Decimal __можно__ использовать целые числа, однако смешивать с типом float десятичные дроби неограниченной точности __невозможно__. \n",
    "\n",
    "2) __x.numerator__ возвращает числитель дроби, __x.denominator__ возвращает знаменатель дроби, __Fraction.from_float(flt)__ принимает flt – число типа float и возвращает обыкновенную дробь отношение числителя к знаменателю которой максимально приближается к значению flt, __Fraction.from_decimal(dec)__ создает обыкновенную дробь, которая является точным представлением десятичной дроби указанной в dec, где dec – это экземпляр класса decimal.Decimal, __Fraction.limit_denominator(max_denominator=10...)__ возвращает ближайшее рациональное представление указанного числа, знаменатель которого не превышает значение max_denominator, __x.floor()__ возвращает значение типа int, которое является наибольшим среди всех int <= x, __x.ceil()__ возвращает значение типа int, которое является наименьшим среди всех int >= x, __x.round()__ округляет до ближайшего четного числа.\n",
    "\n",
    "3) random.randrange(a, b, x) – случайное целое число от a до b (не включая b) с шагом x. То есть __x - шаг__. Если мы зададим только a, получим число в промежутек от 0 до a (не включая a) с шагом 1; если задаем a и b, то в число будет в диапазоне от a до b (не включая b) с шагом 1, поэтому последний аргумент __не обязателен__."
   ]
  },
  {
   "cell_type": "markdown",
   "metadata": {},
   "source": [
    "__Задачи__"
   ]
  },
  {
   "cell_type": "markdown",
   "metadata": {},
   "source": [
    "Условие задачи: Цена товара обозначена в рублях с точностью до копеек, то есть действительным числом с двумя цифрами после десятичной точки. Запишите в две целочисленные переменные стоимость товара в виде целого числа рублей и целого числа копеек и выведите их на экран. При решении этой задачи нельзя пользоваться условными инструкциями и циклами."
   ]
  },
  {
   "cell_type": "markdown",
   "metadata": {},
   "source": [
    "Примеры:\n",
    "Тест 1\n",
    "Входные данные: 10.35\n",
    "Вывод программы: 10 35\n"
   ]
  },
  {
   "cell_type": "code",
   "execution_count": 5,
   "metadata": {},
   "outputs": [
    {
     "name": "stdin",
     "output_type": "stream",
     "text": [
      "Введите цену товара в рублях с точностью до копеек (2 цифры после десятичной точки):  1.99\n"
     ]
    },
    {
     "name": "stdout",
     "output_type": "stream",
     "text": [
      "1 99\n"
     ]
    }
   ],
   "source": [
    "from decimal import *\n",
    "a = input(\"Введите цену товара в рублях с точностью до копеек (2 цифры после десятичной точки): \")\n",
    "x= Decimal(f'{a}')\n",
    "f = int(x)\n",
    "s = int(100 * (x - f))\n",
    "print(f, s)"
   ]
  },
  {
   "cell_type": "markdown",
   "metadata": {},
   "source": [
    "Используя random.choice() получите псевдослучайное четное число в пределах от 6 до 12"
   ]
  },
  {
   "cell_type": "code",
   "execution_count": 18,
   "metadata": {},
   "outputs": [
    {
     "data": {
      "text/plain": [
       "10"
      ]
     },
     "execution_count": 18,
     "metadata": {},
     "output_type": "execute_result"
    }
   ],
   "source": [
    "import random\n",
    "random.choice(range(6,13,2))"
   ]
  },
  {
   "cell_type": "code",
   "execution_count": null,
   "metadata": {},
   "outputs": [],
   "source": []
  }
 ],
 "metadata": {
  "kernelspec": {
   "display_name": "Python 3",
   "language": "python",
   "name": "python3"
  },
  "language_info": {
   "codemirror_mode": {
    "name": "ipython",
    "version": 3
   },
   "file_extension": ".py",
   "mimetype": "text/x-python",
   "name": "python",
   "nbconvert_exporter": "python",
   "pygments_lexer": "ipython3",
   "version": "3.7.4"
  }
 },
 "nbformat": 4,
 "nbformat_minor": 4
}
