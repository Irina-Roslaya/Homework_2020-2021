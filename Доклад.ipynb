{
 "cells": [
  {
   "cell_type": "markdown",
   "metadata": {},
   "source": [
    "# Модули time, datetime, calendar"
   ]
  },
  {
   "cell_type": "markdown",
   "metadata": {},
   "source": [
    "## Модуль time"
   ]
  },
  {
   "cell_type": "markdown",
   "metadata": {},
   "source": [
    "Данный модуль используется для работы с временем."
   ]
  },
  {
   "cell_type": "markdown",
   "metadata": {},
   "source": [
    "Более подробно вы можете ознакомиться с данным модулем перейдя по [ссылке](https://docs.python.org/3/library/time.html)\n"
   ]
  },
  {
   "cell_type": "code",
   "execution_count": 11,
   "metadata": {},
   "outputs": [
    {
     "name": "stdout",
     "output_type": "stream",
     "text": [
      "['_STRUCT_TM_ITEMS', '__doc__', '__loader__', '__name__', '__package__', '__spec__', 'altzone', 'asctime', 'clock', 'ctime', 'daylight', 'get_clock_info', 'gmtime', 'localtime', 'mktime', 'monotonic', 'monotonic_ns', 'perf_counter', 'perf_counter_ns', 'process_time', 'process_time_ns', 'sleep', 'strftime', 'strptime', 'struct_time', 'thread_time', 'thread_time_ns', 'time', 'time_ns', 'timezone', 'tzname']\n"
     ]
    }
   ],
   "source": [
    "import time\n",
    "a=dir(time)\n",
    "print(a) #список имён, определенных в модуле"
   ]
  },
  {
   "cell_type": "markdown",
   "metadata": {},
   "source": [
    "Для начала рассмотрим метод __asctime([t])__, он преобразовывает кортеж или struct_time в строку вида вида 'Sun Jun 20 23:21:05 1993'.Если аргумент не указан, используется текущее время. (Класс time.struct_time - тип последовательности значения времени. Имеет интерфейс кортежа. Можно обращаться по индексу или по имени.)"
   ]
  },
  {
   "cell_type": "code",
   "execution_count": 6,
   "metadata": {},
   "outputs": [
    {
     "data": {
      "text/plain": [
       "'Thu Oct  1 18:56:07 2020'"
      ]
     },
     "execution_count": 6,
     "metadata": {},
     "output_type": "execute_result"
    }
   ],
   "source": [
    "import time\n",
    "time.asctime()"
   ]
  },
  {
   "cell_type": "code",
   "execution_count": 8,
   "metadata": {},
   "outputs": [
    {
     "data": {
      "text/plain": [
       "'Sat Dec  7 14:30:30 2019'"
      ]
     },
     "execution_count": 8,
     "metadata": {},
     "output_type": "execute_result"
    }
   ],
   "source": [
    "import time\n",
    "time.asctime((2019, 12, 7, 14, 30, 30, 5, 341, 0)) # год, месяц, день, час, минута, секунда, день недели, день года, летнее время (1 - учитывается, 0 - не учитывается)"
   ]
  },
  {
   "cell_type": "markdown",
   "metadata": {},
   "source": [
    "Рассмотрим  метод __altzone__. Он возвращает смещение локального часового пояса DST (Летнего времени), в секундах к западу от UTC (Всемирного координированного времени), если оно определено. Отрицателен, если местный часовой пояс DST находится к востоку от UTC (как в Западной Европе, включая Великобританию). "
   ]
  },
  {
   "cell_type": "code",
   "execution_count": 14,
   "metadata": {},
   "outputs": [
    {
     "data": {
      "text/plain": [
       "-14400"
      ]
     },
     "execution_count": 14,
     "metadata": {},
     "output_type": "execute_result"
    }
   ],
   "source": [
    "import time\n",
    "time.altzone"
   ]
  },
  {
   "cell_type": "markdown",
   "metadata": {},
   "source": [
    "Метод __clock()__ в Unix возвращает текущее время. В Windows возвращает время, прошедшее с момента первого вызова данной функции."
   ]
  },
  {
   "cell_type": "code",
   "execution_count": 22,
   "metadata": {},
   "outputs": [
    {
     "name": "stderr",
     "output_type": "stream",
     "text": [
      "C:\\Users\\Mi\\Anaconda3\\lib\\site-packages\\ipykernel_launcher.py:2: DeprecationWarning: time.clock has been deprecated in Python 3.3 and will be removed from Python 3.8: use time.perf_counter or time.process_time instead\n",
      "  \n"
     ]
    },
    {
     "data": {
      "text/plain": [
       "4796.2067078"
      ]
     },
     "execution_count": 22,
     "metadata": {},
     "output_type": "execute_result"
    }
   ],
   "source": [
    "import time\n",
    "time.clock()#предупреждение о том что time.clock устарел"
   ]
  },
  {
   "cell_type": "markdown",
   "metadata": {},
   "source": [
    "Mетод __ctime([secs])__ преобразует время, выраженное в секундах с начала эпохи  в строку, представляющую локальное время."
   ]
  },
  {
   "cell_type": "code",
   "execution_count": 23,
   "metadata": {},
   "outputs": [
    {
     "data": {
      "text/plain": [
       "'Thu Oct  1 19:33:57 2020'"
      ]
     },
     "execution_count": 23,
     "metadata": {},
     "output_type": "execute_result"
    }
   ],
   "source": [
    "import time\n",
    "time.ctime()"
   ]
  },
  {
   "cell_type": "code",
   "execution_count": 24,
   "metadata": {},
   "outputs": [
    {
     "data": {
      "text/plain": [
       "'Sat Dec  7 15:30:30 2019'"
      ]
     },
     "execution_count": 24,
     "metadata": {},
     "output_type": "execute_result"
    }
   ],
   "source": [
    "import time\n",
    "time.ctime(1575721830.711298)"
   ]
  },
  {
   "cell_type": "markdown",
   "metadata": {},
   "source": [
    "Метод __daylight__ выводит  не 0, если определено, зимнее время или летнее (DST)."
   ]
  },
  {
   "cell_type": "code",
   "execution_count": 25,
   "metadata": {},
   "outputs": [
    {
     "data": {
      "text/plain": [
       "0"
      ]
     },
     "execution_count": 25,
     "metadata": {},
     "output_type": "execute_result"
    }
   ],
   "source": [
    "import time\n",
    "time.daylight"
   ]
  },
  {
   "cell_type": "markdown",
   "metadata": {},
   "source": [
    "Метод __time.get_clock_info(name)__ помогает получить информацию о time, monotonic, perf_counter, process_time и thread_time."
   ]
  },
  {
   "cell_type": "code",
   "execution_count": 31,
   "metadata": {},
   "outputs": [
    {
     "data": {
      "text/plain": [
       "namespace(adjustable=False, implementation='GetTickCount64()', monotonic=True, resolution=0.015625)"
      ]
     },
     "execution_count": 31,
     "metadata": {},
     "output_type": "execute_result"
    }
   ],
   "source": [
    "import time\n",
    "time.get_clock_info('monotonic')#регулируемый ли, реализация, монотонность, разрешение"
   ]
  },
  {
   "cell_type": "code",
   "execution_count": 32,
   "metadata": {},
   "outputs": [
    {
     "data": {
      "text/plain": [
       "namespace(adjustable=True, implementation='GetSystemTimeAsFileTime()', monotonic=False, resolution=0.015625)"
      ]
     },
     "execution_count": 32,
     "metadata": {},
     "output_type": "execute_result"
    }
   ],
   "source": [
    "time.get_clock_info('time')"
   ]
  },
  {
   "cell_type": "markdown",
   "metadata": {},
   "source": [
    "Метод __gmtime([secs])__ преобразует время, выраженное в секундах с начала эпохи в struct_time, где флаг DST всегда равен нулю."
   ]
  },
  {
   "cell_type": "code",
   "execution_count": 33,
   "metadata": {},
   "outputs": [
    {
     "data": {
      "text/plain": [
       "time.struct_time(tm_year=2018, tm_mon=8, tm_mday=27, tm_hour=13, tm_min=22, tm_sec=12, tm_wday=0, tm_yday=239, tm_isdst=0)"
      ]
     },
     "execution_count": 33,
     "metadata": {},
     "output_type": "execute_result"
    }
   ],
   "source": [
    "import time\n",
    "time.gmtime(1535376132.41552)"
   ]
  },
  {
   "cell_type": "markdown",
   "metadata": {},
   "source": [
    "Метод __localtime([secs])__ как gmtime, но с DST флагом."
   ]
  },
  {
   "cell_type": "code",
   "execution_count": 34,
   "metadata": {},
   "outputs": [
    {
     "data": {
      "text/plain": [
       "time.struct_time(tm_year=2018, tm_mon=8, tm_mday=27, tm_hour=16, tm_min=22, tm_sec=12, tm_wday=0, tm_yday=239, tm_isdst=0)"
      ]
     },
     "execution_count": 34,
     "metadata": {},
     "output_type": "execute_result"
    }
   ],
   "source": [
    "import time\n",
    "time.localtime(1535376132.41552)"
   ]
  },
  {
   "cell_type": "markdown",
   "metadata": {},
   "source": [
    "Метод __mktime(t)__ преобразует кортеж или struct_time в число секунд с начала эпохи."
   ]
  },
  {
   "cell_type": "code",
   "execution_count": 35,
   "metadata": {},
   "outputs": [
    {
     "data": {
      "text/plain": [
       "1535897715.0"
      ]
     },
     "execution_count": 35,
     "metadata": {},
     "output_type": "execute_result"
    }
   ],
   "source": [
    "import time\n",
    "time.mktime((2018, 9, 2, 17, 15, 15, 1, 48, 0))"
   ]
  },
  {
   "cell_type": "markdown",
   "metadata": {},
   "source": [
    "Метод __sleep(secs)__ приостанавливает выполнение программы на заданное количество секунд."
   ]
  },
  {
   "cell_type": "code",
   "execution_count": 41,
   "metadata": {},
   "outputs": [
    {
     "name": "stdout",
     "output_type": "stream",
     "text": [
      "3\n"
     ]
    }
   ],
   "source": [
    "import time\n",
    "s= 2+1\n",
    "time.sleep(2)\n",
    "print(s)"
   ]
  },
  {
   "cell_type": "markdown",
   "metadata": {},
   "source": [
    "Метод __process_time()__ возвращает комбинированное значение времени процессора и системы. __process_time_ns()__ аналогичен __process_time()__, но выводит результат в наносекундах."
   ]
  },
  {
   "cell_type": "code",
   "execution_count": 56,
   "metadata": {},
   "outputs": [
    {
     "data": {
      "text/plain": [
       "1.5"
      ]
     },
     "execution_count": 56,
     "metadata": {},
     "output_type": "execute_result"
    }
   ],
   "source": [
    "import time\n",
    "time.process_time()"
   ]
  },
  {
   "cell_type": "markdown",
   "metadata": {},
   "source": [
    "Метод __perf_counter()__  обеспечивает доступ к таймерам с самым высоким дроблением единиц времени для более точного измерения."
   ]
  },
  {
   "cell_type": "code",
   "execution_count": 57,
   "metadata": {},
   "outputs": [
    {
     "data": {
      "text/plain": [
       "7813.5241528"
      ]
     },
     "execution_count": 57,
     "metadata": {},
     "output_type": "execute_result"
    }
   ],
   "source": [
    "import time\n",
    "time.perf_counter()"
   ]
  },
  {
   "cell_type": "markdown",
   "metadata": {},
   "source": [
    "Более подробно про данные методы можно прочитать [здесь](https://www.rupython.com/time-perf_counter-time-process_time-13152.html)"
   ]
  },
  {
   "cell_type": "markdown",
   "metadata": {},
   "source": [
    "Метод __monotonic()__  может использоваться для измерения прошедшего времени в длительном процессе."
   ]
  },
  {
   "cell_type": "code",
   "execution_count": 58,
   "metadata": {},
   "outputs": [
    {
     "data": {
      "text/plain": [
       "298510.671"
      ]
     },
     "execution_count": 58,
     "metadata": {},
     "output_type": "execute_result"
    }
   ],
   "source": [
    "import time\n",
    "time. monotonic()"
   ]
  },
  {
   "cell_type": "markdown",
   "metadata": {},
   "source": [
    "Метод __strftime(format, [ t])__ преобразует кортеж или struct_time в строку по формату."
   ]
  },
  {
   "cell_type": "code",
   "execution_count": 70,
   "metadata": {},
   "outputs": [
    {
     "data": {
      "image/png": "[encoded data removed]",
      "text/plain": [
       "<IPython.core.display.Image object>"
      ]
     },
     "execution_count": 70,
     "metadata": {
      "image/png": {
       "height": 100,
       "width": 500
      }
     },
     "output_type": "execute_result"
    }
   ],
   "source": [
    "from IPython.display import Image \n",
    "Image(\"/Users/Mi/Videos/Captures/Изображение.png\",width=500, height=100) "
   ]
  },
  {
   "cell_type": "code",
   "execution_count": 59,
   "metadata": {},
   "outputs": [
    {
     "data": {
      "text/plain": [
       "'Sep 13 2018 11:35:45'"
      ]
     },
     "execution_count": 59,
     "metadata": {},
     "output_type": "execute_result"
    }
   ],
   "source": [
    "import time\n",
    "time.strftime(\"%b %d %Y %H:%M:%S\",(2018, 9, 13, 11, 35, 45, 1, 48, 0))"
   ]
  },
  {
   "cell_type": "markdown",
   "metadata": {},
   "source": [
    "Метод __strptime(string, [format])__ - разбор строки, представляющей время в соответствии с форматом. Возвращаемое значение - struct_time. Формат по умолчанию: \"%a %b %d %H:%M:%S %Y\"."
   ]
  },
  {
   "cell_type": "code",
   "execution_count": 72,
   "metadata": {},
   "outputs": [
    {
     "data": {
      "text/plain": [
       "time.struct_time(tm_year=2000, tm_mon=11, tm_mday=30, tm_hour=0, tm_min=0, tm_sec=0, tm_wday=3, tm_yday=335, tm_isdst=-1)"
      ]
     },
     "execution_count": 72,
     "metadata": {},
     "output_type": "execute_result"
    }
   ],
   "source": [
    "import time\n",
    "time.strptime(\"30 Nov 00\", \"%d %b %y\")"
   ]
  },
  {
   "cell_type": "markdown",
   "metadata": {},
   "source": [
    "Метод __time()__ выводит время, выраженное в секундах с начала эпохи."
   ]
  },
  {
   "cell_type": "code",
   "execution_count": 73,
   "metadata": {},
   "outputs": [
    {
     "data": {
      "text/plain": [
       "1601574482.0190337"
      ]
     },
     "execution_count": 73,
     "metadata": {},
     "output_type": "execute_result"
    }
   ],
   "source": [
    "import time\n",
    "time.time()"
   ]
  },
  {
   "cell_type": "markdown",
   "metadata": {},
   "source": [
    "Метод __timezone__ выводит смещение местного часового пояса в секундах к западу от нулевого меридиана. Если часовой пояс находится восточнее, смещение отрицательно."
   ]
  },
  {
   "cell_type": "code",
   "execution_count": 74,
   "metadata": {},
   "outputs": [
    {
     "data": {
      "text/plain": [
       "-10800"
      ]
     },
     "execution_count": 74,
     "metadata": {},
     "output_type": "execute_result"
    }
   ],
   "source": [
    "import time\n",
    "time.timezone"
   ]
  },
  {
   "cell_type": "markdown",
   "metadata": {},
   "source": [
    "Метод __tzname__ выводит кортеж из двух строк: первая - имя DST часового пояса, второй - имя местного часового пояса."
   ]
  },
  {
   "cell_type": "code",
   "execution_count": 76,
   "metadata": {},
   "outputs": [
    {
     "data": {
      "text/plain": [
       "('RTZ 2 (зима)', 'RTZ 2 (лето)')"
      ]
     },
     "execution_count": 76,
     "metadata": {},
     "output_type": "execute_result"
    }
   ],
   "source": [
    "import time\n",
    "time.tzname"
   ]
  },
  {
   "cell_type": "markdown",
   "metadata": {},
   "source": [
    "## Задание"
   ]
  },
  {
   "cell_type": "markdown",
   "metadata": {},
   "source": [
    "__При помощи модуля time преобразовать текущее время в число секунд с начала эпохи, не используя метод time().__"
   ]
  },
  {
   "cell_type": "markdown",
   "metadata": {},
   "source": [
    "## Модуль datetime"
   ]
  },
  {
   "cell_type": "markdown",
   "metadata": {},
   "source": [
    "Модуль datetime предоставляет классы для обработки времени и даты разными способами. Поддерживается и стандартный способ представления времени, однако больший упор сделан на простоту манипулирования датой, временем и их частями."
   ]
  },
  {
   "cell_type": "markdown",
   "metadata": {},
   "source": [
    "Больше информации [здесь](https://docs.python.org/3/library/datetime.html#module-datetime)"
   ]
  },
  {
   "cell_type": "code",
   "execution_count": 6,
   "metadata": {},
   "outputs": [
    {
     "name": "stdout",
     "output_type": "stream",
     "text": [
      "['__add__', '__class__', '__delattr__', '__dir__', '__doc__', '__eq__', '__format__', '__ge__', '__getattribute__', '__gt__', '__hash__', '__init__', '__init_subclass__', '__le__', '__lt__', '__ne__', '__new__', '__radd__', '__reduce__', '__reduce_ex__', '__repr__', '__rsub__', '__setattr__', '__sizeof__', '__str__', '__sub__', '__subclasshook__', 'astimezone', 'combine', 'ctime', 'date', 'day', 'dst', 'fold', 'fromisocalendar', 'fromisoformat', 'fromordinal', 'fromtimestamp', 'hour', 'isocalendar', 'isoformat', 'isoweekday', 'max', 'microsecond', 'min', 'minute', 'month', 'now', 'replace', 'resolution', 'second', 'strftime', 'strptime', 'time', 'timestamp', 'timetuple', 'timetz', 'today', 'toordinal', 'tzinfo', 'tzname', 'utcfromtimestamp', 'utcnow', 'utcoffset', 'utctimetuple', 'weekday', 'year']\n"
     ]
    }
   ],
   "source": [
    "import datetime as dt\n",
    "from datetime import datetime\n",
    "d=dir(datetime)\n",
    "print(d)"
   ]
  },
  {
   "cell_type": "markdown",
   "metadata": {},
   "source": [
    "Прежде, чем говорить о методах, используемых в данном модуле, стоит упомянуть, какие классы в нем присутствуют. "
   ]
  },
  {
   "cell_type": "markdown",
   "metadata": {},
   "source": [
    "Класс __datetime.date(year, month, day)__ - стандартная дата. Атрибуты: __year, month, day__. Неизменяемый объект."
   ]
  },
  {
   "cell_type": "markdown",
   "metadata": {},
   "source": [
    "Класс __datetime.time(hour=0, minute=0, second=0, microsecond=0, tzinfo=None)__ - стандартное время, не зависит от даты. Атрибуты: __hour, minute, second, microsecond, tzinfo__."
   ]
  },
  {
   "cell_type": "markdown",
   "metadata": {},
   "source": [
    "Класс __datetime.datetime(year, month, day, hour=0, minute=0, second=0, microsecond=0, tzinfo=None)__ - комбинация даты и времени."
   ]
  },
  {
   "cell_type": "markdown",
   "metadata": {},
   "source": [
    "Класс __datetime.timedelta__ - разница между двумя моментами времени, с точностью до микросекунд."
   ]
  },
  {
   "cell_type": "markdown",
   "metadata": {},
   "source": [
    "Класс __datetime.tzinfo__ - абстрактный базовый класс для информации о временной зоне (например, для учета часового пояса и / или летнего времени)."
   ]
  },
  {
   "cell_type": "markdown",
   "metadata": {},
   "source": [
    "Класс __datetime.timezone__ - это подкласс класса tzinfo, каждый экземпляр которого представляет собой timezone, определенный фиксированным смещением от UTC."
   ]
  },
  {
   "cell_type": "markdown",
   "metadata": {},
   "source": [
    "### Методы класса"
   ]
  },
  {
   "cell_type": "markdown",
   "metadata": {},
   "source": [
    "__datetime.now(tz=None)__ - объект datetime из текущей даты и времени."
   ]
  },
  {
   "cell_type": "code",
   "execution_count": 10,
   "metadata": {},
   "outputs": [
    {
     "data": {
      "text/plain": [
       "datetime.datetime(2020, 10, 1, 21, 58, 43, 879800)"
      ]
     },
     "execution_count": 10,
     "metadata": {},
     "output_type": "execute_result"
    }
   ],
   "source": [
    "datetime.now(tz=None)"
   ]
  },
  {
   "cell_type": "markdown",
   "metadata": {},
   "source": [
    "__datetime.today()__ - объект datetime из текущей даты и времени. Работает также, как и datetime.now() со значением tz=None."
   ]
  },
  {
   "cell_type": "code",
   "execution_count": 11,
   "metadata": {},
   "outputs": [
    {
     "data": {
      "text/plain": [
       "datetime.datetime(2020, 10, 1, 21, 58, 50, 277422)"
      ]
     },
     "execution_count": 11,
     "metadata": {},
     "output_type": "execute_result"
    }
   ],
   "source": [
    "datetime.today() "
   ]
  },
  {
   "cell_type": "markdown",
   "metadata": {},
   "source": [
    "__fromtimestamp(timestamp)__ - дата из стандартного представления времени."
   ]
  },
  {
   "cell_type": "code",
   "execution_count": 62,
   "metadata": {},
   "outputs": [
    {
     "data": {
      "text/plain": [
       "datetime.datetime(1970, 1, 1, 3, 0, 2)"
      ]
     },
     "execution_count": 62,
     "metadata": {},
     "output_type": "execute_result"
    }
   ],
   "source": [
    "datetime.fromtimestamp(2) #Данные числа обозначают количество секунд с 1 января 1970 года"
   ]
  },
  {
   "cell_type": "markdown",
   "metadata": {},
   "source": [
    "__fromordinal(ordinal)__ - дата из числа, представляющего собой количество дней, прошедших с 01.01.1970."
   ]
  },
  {
   "cell_type": "code",
   "execution_count": 64,
   "metadata": {},
   "outputs": [
    {
     "data": {
      "text/plain": [
       "datetime.datetime(2002, 12, 30, 0, 0)"
      ]
     },
     "execution_count": 64,
     "metadata": {},
     "output_type": "execute_result"
    }
   ],
   "source": [
    "datetime.fromordinal(731214) # 1 января года 1 имеет порядковый номер 1"
   ]
  },
  {
   "cell_type": "markdown",
   "metadata": {},
   "source": [
    "__fromisoformat(date_string)__ возвращает дату, соответствующую строке date_string, заданной в формате 'YYYY-MM-DD'."
   ]
  },
  {
   "cell_type": "code",
   "execution_count": 25,
   "metadata": {},
   "outputs": [
    {
     "data": {
      "text/plain": [
       "datetime.date(2019, 12, 4)"
      ]
     },
     "execution_count": 25,
     "metadata": {},
     "output_type": "execute_result"
    }
   ],
   "source": [
    "from datetime import date\n",
    "date.fromisoformat('2019-12-04')"
   ]
  },
  {
   "cell_type": "markdown",
   "metadata": {},
   "source": [
    "__combine(date, time)__ - объект datetime из комбинации объектов date и time"
   ]
  },
  {
   "cell_type": "code",
   "execution_count": 37,
   "metadata": {},
   "outputs": [
    {
     "data": {
      "text/plain": [
       "datetime.datetime(2002, 3, 4, 18, 45, 3, 1234)"
      ]
     },
     "execution_count": 37,
     "metadata": {},
     "output_type": "execute_result"
    }
   ],
   "source": [
    "from datetime import time\n",
    "datetime.combine(date(2002, 3, 4), time(18, 45, 3, 1234))"
   ]
  },
  {
   "cell_type": "markdown",
   "metadata": {},
   "source": [
    "__strptime(date_string, format)__- преобразует строку в datetime "
   ]
  },
  {
   "cell_type": "code",
   "execution_count": 40,
   "metadata": {},
   "outputs": [
    {
     "data": {
      "text/plain": [
       "datetime.datetime(2012, 1, 27, 0, 0)"
      ]
     },
     "execution_count": 40,
     "metadata": {},
     "output_type": "execute_result"
    }
   ],
   "source": [
    "datetime.strptime(\"01/27/2012\", \"%m/%d/%Y\")"
   ]
  },
  {
   "cell_type": "markdown",
   "metadata": {},
   "source": [
    "__strftime(format)__ - преобразование в строку по формату."
   ]
  },
  {
   "cell_type": "code",
   "execution_count": 45,
   "metadata": {},
   "outputs": [
    {
     "data": {
      "text/plain": [
       "'11/03/02'"
      ]
     },
     "execution_count": 45,
     "metadata": {},
     "output_type": "execute_result"
    }
   ],
   "source": [
    "d = date.fromordinal(730920)\n",
    "d.strftime(\"%d/%m/%y\")"
   ]
  },
  {
   "cell_type": "markdown",
   "metadata": {},
   "source": [
    "__replace(year=self.year, month=self.month, day=self.day)__ - возвращает новый объект datetime с изменёнными атрибутами."
   ]
  },
  {
   "cell_type": "code",
   "execution_count": 57,
   "metadata": {},
   "outputs": [
    {
     "data": {
      "text/plain": [
       "datetime.date(2002, 12, 26)"
      ]
     },
     "execution_count": 57,
     "metadata": {},
     "output_type": "execute_result"
    }
   ],
   "source": [
    "d = date(2002, 12, 31)\n",
    "d.replace(day=26)"
   ]
  },
  {
   "cell_type": "markdown",
   "metadata": {},
   "source": [
    "__timetuple()__ - возвращает struct_time."
   ]
  },
  {
   "cell_type": "code",
   "execution_count": 60,
   "metadata": {},
   "outputs": [
    {
     "data": {
      "text/plain": [
       "time.struct_time(tm_year=2002, tm_mon=12, tm_mday=30, tm_hour=0, tm_min=0, tm_sec=0, tm_wday=0, tm_yday=364, tm_isdst=-1)"
      ]
     },
     "execution_count": 60,
     "metadata": {},
     "output_type": "execute_result"
    }
   ],
   "source": [
    "d = date(2002, 12, 30)\n",
    "d.timetuple()"
   ]
  },
  {
   "cell_type": "markdown",
   "metadata": {},
   "source": [
    "__toordinal()__ - дата, соответствующая пролептическому григорианскому порядковому номеру, где 1 января года 1 имеет порядковый номер 1. "
   ]
  },
  {
   "cell_type": "code",
   "execution_count": 61,
   "metadata": {},
   "outputs": [
    {
     "data": {
      "text/plain": [
       "731214"
      ]
     },
     "execution_count": 61,
     "metadata": {},
     "output_type": "execute_result"
    }
   ],
   "source": [
    "d.toordinal() "
   ]
  },
  {
   "cell_type": "markdown",
   "metadata": {},
   "source": [
    "__timestamp()__ возвращает время в секундах с начала эпохи."
   ]
  },
  {
   "cell_type": "code",
   "execution_count": 69,
   "metadata": {},
   "outputs": [
    {
     "data": {
      "text/plain": [
       "1601582825.650837"
      ]
     },
     "execution_count": 69,
     "metadata": {},
     "output_type": "execute_result"
    }
   ],
   "source": [
    "datetime.today().timestamp()"
   ]
  },
  {
   "cell_type": "markdown",
   "metadata": {},
   "source": [
    "__weekday()__ возвращает день недели в виде числа, понедельник - 0, воскресенье - 6."
   ]
  },
  {
   "cell_type": "code",
   "execution_count": 72,
   "metadata": {},
   "outputs": [
    {
     "data": {
      "text/plain": [
       "3"
      ]
     },
     "execution_count": 72,
     "metadata": {},
     "output_type": "execute_result"
    }
   ],
   "source": [
    "datetime.today().weekday() "
   ]
  },
  {
   "cell_type": "markdown",
   "metadata": {},
   "source": [
    "__isoweekday()__ возвращает день недели в виде числа, понедельник - 1, воскресенье - 7."
   ]
  },
  {
   "cell_type": "code",
   "execution_count": 73,
   "metadata": {},
   "outputs": [
    {
     "data": {
      "text/plain": [
       "4"
      ]
     },
     "execution_count": 73,
     "metadata": {},
     "output_type": "execute_result"
    }
   ],
   "source": [
    "datetime.today().isoweekday() "
   ]
  },
  {
   "cell_type": "markdown",
   "metadata": {},
   "source": [
    "__isocalendar()__ возвращает в виде кортежа год, номер недели и номер дня недели"
   ]
  },
  {
   "cell_type": "code",
   "execution_count": 76,
   "metadata": {},
   "outputs": [
    {
     "data": {
      "text/plain": [
       "(2020, 40, 4)"
      ]
     },
     "execution_count": 76,
     "metadata": {},
     "output_type": "execute_result"
    }
   ],
   "source": [
    "datetime.today().isocalendar()"
   ]
  },
  {
   "cell_type": "markdown",
   "metadata": {},
   "source": [
    "__isoformat(sep='T', timespec='auto')__ возвращает строку вида \"YYYY-MM-DDTHH:MM:SS.mmmmmm\" или, если microsecond == 0, \"YYYY-MM-DDTHH:MM:SS\""
   ]
  },
  {
   "cell_type": "code",
   "execution_count": 80,
   "metadata": {},
   "outputs": [
    {
     "data": {
      "text/plain": [
       "'2020-10-01T23:17:53.096920'"
      ]
     },
     "execution_count": 80,
     "metadata": {},
     "output_type": "execute_result"
    }
   ],
   "source": [
    "datetime.today().isoformat(sep='T', timespec='auto')"
   ]
  },
  {
   "cell_type": "markdown",
   "metadata": {},
   "source": [
    "__ctime()__ преобразует объект в строку вида 'Wed Dec  4 00:00:00 2002'."
   ]
  },
  {
   "cell_type": "code",
   "execution_count": 82,
   "metadata": {},
   "outputs": [
    {
     "data": {
      "text/plain": [
       "'Wed Dec  4 00:00:00 2002'"
      ]
     },
     "execution_count": 82,
     "metadata": {},
     "output_type": "execute_result"
    }
   ],
   "source": [
    "date(2002, 12, 4).ctime()"
   ]
  },
  {
   "cell_type": "markdown",
   "metadata": {},
   "source": [
    "__astimezone(tz=None)__ возвращаем объект datetime с новым атрибутом tzinfo."
   ]
  },
  {
   "cell_type": "code",
   "execution_count": 85,
   "metadata": {},
   "outputs": [
    {
     "data": {
      "text/plain": [
       "datetime.datetime(2020, 10, 1, 23, 24, 37, 20172, tzinfo=datetime.timezone(datetime.timedelta(seconds=10800), 'RTZ 2 (зима)'))"
      ]
     },
     "execution_count": 85,
     "metadata": {},
     "output_type": "execute_result"
    }
   ],
   "source": [
    "datetime.today().astimezone(tz=None)"
   ]
  },
  {
   "cell_type": "markdown",
   "metadata": {},
   "source": [
    "__datetime.utcfromtimestamp(timestamp)__ - дата из стандартного представления времени без смещения UTC."
   ]
  },
  {
   "cell_type": "code",
   "execution_count": 88,
   "metadata": {},
   "outputs": [
    {
     "data": {
      "text/plain": [
       "datetime.datetime(1970, 1, 1, 0, 0, 2)"
      ]
     },
     "execution_count": 88,
     "metadata": {},
     "output_type": "execute_result"
    }
   ],
   "source": [
    "datetime.utcfromtimestamp(2)#без смещения UTC"
   ]
  },
  {
   "cell_type": "code",
   "execution_count": 90,
   "metadata": {},
   "outputs": [
    {
     "data": {
      "text/plain": [
       "datetime.timedelta(seconds=10800)"
      ]
     },
     "execution_count": 90,
     "metadata": {},
     "output_type": "execute_result"
    }
   ],
   "source": [
    "datetime.fromtimestamp(2) - datetime.utcfromtimestamp(2)# смещение UTC, используемое fromtimestamp()"
   ]
  },
  {
   "cell_type": "markdown",
   "metadata": {},
   "source": [
    "## Задание"
   ]
  },
  {
   "cell_type": "markdown",
   "metadata": {},
   "source": [
    "__С помощью модуля datetime определить дату, которая наступит через 10 дней от текущей даты.__"
   ]
  },
  {
   "cell_type": "markdown",
   "metadata": {},
   "source": [
    "## Модуль calendar"
   ]
  },
  {
   "cell_type": "markdown",
   "metadata": {},
   "source": [
    "Модуль calendar позволяет вывести календарь в виде простого текста или в HTML формате, а также содержит функции для работы с календарями"
   ]
  },
  {
   "cell_type": "code",
   "execution_count": 96,
   "metadata": {},
   "outputs": [],
   "source": [
    "import calendar # импортируем модуль"
   ]
  },
  {
   "cell_type": "markdown",
   "metadata": {},
   "source": [
    "__calendar.Calendar(firstweekday=0)__ - класс календаря. firstweekday - первый день недели (0 - понедельник, 6 - воскресенье)."
   ]
  },
  {
   "cell_type": "code",
   "execution_count": 97,
   "metadata": {},
   "outputs": [
    {
     "data": {
      "text/plain": [
       "<calendar.Calendar at 0x2a517efffa0>"
      ]
     },
     "execution_count": 97,
     "metadata": {},
     "output_type": "execute_result"
    }
   ],
   "source": [
    "calendar.Calendar(firstweekday=0) "
   ]
  },
  {
   "cell_type": "markdown",
   "metadata": {},
   "source": [
    "### Методы"
   ]
  },
  {
   "cell_type": "markdown",
   "metadata": {},
   "source": [
    "__iterweekdays()__ - итератор дней недели, начиная с firstweekday."
   ]
  },
  {
   "cell_type": "code",
   "execution_count": 100,
   "metadata": {},
   "outputs": [
    {
     "data": {
      "text/plain": [
       "[4, 5, 6, 0, 1, 2, 3]"
      ]
     },
     "execution_count": 100,
     "metadata": {},
     "output_type": "execute_result"
    }
   ],
   "source": [
    "import calendar\n",
    "day= calendar.Calendar(firstweekday = 4)\n",
    "list(day.iterweekdays()) "
   ]
  },
  {
   "cell_type": "markdown",
   "metadata": {},
   "source": [
    "__itermonthdates(year, month)__ итератор для месяца month года year. Возвращает все дни этого месяца (как объекты datetime.date), а также дни до и после этого месяца до полной недели."
   ]
  },
  {
   "cell_type": "code",
   "execution_count": 108,
   "metadata": {},
   "outputs": [
    {
     "name": "stdout",
     "output_type": "stream",
     "text": [
      "2019-09-30\n",
      "2019-10-01\n",
      "2019-10-02\n",
      "2019-10-03\n",
      "2019-10-04\n",
      "2019-10-05\n",
      "2019-10-06\n",
      "2019-10-07\n",
      "2019-10-08\n",
      "2019-10-09\n",
      "2019-10-10\n",
      "2019-10-11\n",
      "2019-10-12\n",
      "2019-10-13\n",
      "2019-10-14\n",
      "2019-10-15\n",
      "2019-10-16\n",
      "2019-10-17\n",
      "2019-10-18\n",
      "2019-10-19\n",
      "2019-10-20\n",
      "2019-10-21\n",
      "2019-10-22\n",
      "2019-10-23\n",
      "2019-10-24\n",
      "2019-10-25\n",
      "2019-10-26\n",
      "2019-10-27\n",
      "2019-10-28\n",
      "2019-10-29\n",
      "2019-10-30\n",
      "2019-10-31\n",
      "2019-11-01\n",
      "2019-11-02\n",
      "2019-11-03\n"
     ]
    }
   ],
   "source": [
    "calend = calendar.Calendar() \n",
    "for day in calend.itermonthdates(2019, 10):\n",
    "    print(day)"
   ]
  },
  {
   "cell_type": "markdown",
   "metadata": {},
   "source": [
    "__itermonthdays(year, month)__ как itermonthdates, только дни возвращаются как номера дней. Дни, не являющиеся днями месяца обращаются в 0."
   ]
  },
  {
   "cell_type": "code",
   "execution_count": 110,
   "metadata": {},
   "outputs": [
    {
     "name": "stdout",
     "output_type": "stream",
     "text": [
      "0\n",
      "1\n",
      "2\n",
      "3\n",
      "4\n",
      "5\n",
      "6\n",
      "7\n",
      "8\n",
      "9\n",
      "10\n",
      "11\n",
      "12\n",
      "13\n",
      "14\n",
      "15\n",
      "16\n",
      "17\n",
      "18\n",
      "19\n",
      "20\n",
      "21\n",
      "22\n",
      "23\n",
      "24\n",
      "25\n",
      "26\n",
      "27\n",
      "28\n",
      "29\n",
      "30\n",
      "31\n",
      "0\n",
      "0\n",
      "0\n"
     ]
    }
   ],
   "source": [
    "for day in calend.itermonthdays(2019, 10):\n",
    "    print(day)"
   ]
  },
  {
   "cell_type": "markdown",
   "metadata": {},
   "source": [
    "__itermonthdays2(year, month)__  как itermonthdates, только дни возвращаются как кортежи (номер дня, номер дня недели)."
   ]
  },
  {
   "cell_type": "code",
   "execution_count": 113,
   "metadata": {},
   "outputs": [
    {
     "name": "stdout",
     "output_type": "stream",
     "text": [
      "(0, 0)\n",
      "(1, 1)\n",
      "(2, 2)\n",
      "(3, 3)\n",
      "(4, 4)\n",
      "(5, 5)\n",
      "(6, 6)\n",
      "(7, 0)\n",
      "(8, 1)\n",
      "(9, 2)\n",
      "(10, 3)\n",
      "(11, 4)\n",
      "(12, 5)\n",
      "(13, 6)\n",
      "(14, 0)\n",
      "(15, 1)\n",
      "(16, 2)\n",
      "(17, 3)\n",
      "(18, 4)\n",
      "(19, 5)\n",
      "(20, 6)\n",
      "(21, 0)\n",
      "(22, 1)\n",
      "(23, 2)\n",
      "(24, 3)\n",
      "(25, 4)\n",
      "(26, 5)\n",
      "(27, 6)\n",
      "(28, 0)\n",
      "(29, 1)\n",
      "(30, 2)\n",
      "(31, 3)\n",
      "(0, 4)\n",
      "(0, 5)\n",
      "(0, 6)\n"
     ]
    }
   ],
   "source": [
    "for day in calend.itermonthdays2(2019, 10):\n",
    "    print(day)"
   ]
  },
  {
   "cell_type": "markdown",
   "metadata": {},
   "source": [
    "__itermonthdays3(year, month)__ как  itermonthdates, только дни возвращаются как кортежи (год, месяц, день)."
   ]
  },
  {
   "cell_type": "code",
   "execution_count": 114,
   "metadata": {},
   "outputs": [
    {
     "name": "stdout",
     "output_type": "stream",
     "text": [
      "(2019, 9, 30)\n",
      "(2019, 10, 1)\n",
      "(2019, 10, 2)\n",
      "(2019, 10, 3)\n",
      "(2019, 10, 4)\n",
      "(2019, 10, 5)\n",
      "(2019, 10, 6)\n",
      "(2019, 10, 7)\n",
      "(2019, 10, 8)\n",
      "(2019, 10, 9)\n",
      "(2019, 10, 10)\n",
      "(2019, 10, 11)\n",
      "(2019, 10, 12)\n",
      "(2019, 10, 13)\n",
      "(2019, 10, 14)\n",
      "(2019, 10, 15)\n",
      "(2019, 10, 16)\n",
      "(2019, 10, 17)\n",
      "(2019, 10, 18)\n",
      "(2019, 10, 19)\n",
      "(2019, 10, 20)\n",
      "(2019, 10, 21)\n",
      "(2019, 10, 22)\n",
      "(2019, 10, 23)\n",
      "(2019, 10, 24)\n",
      "(2019, 10, 25)\n",
      "(2019, 10, 26)\n",
      "(2019, 10, 27)\n",
      "(2019, 10, 28)\n",
      "(2019, 10, 29)\n",
      "(2019, 10, 30)\n",
      "(2019, 10, 31)\n",
      "(2019, 11, 1)\n",
      "(2019, 11, 2)\n",
      "(2019, 11, 3)\n"
     ]
    }
   ],
   "source": [
    "for day in calend.itermonthdays3(2019, 10):\n",
    "    print(day)"
   ]
  },
  {
   "cell_type": "markdown",
   "metadata": {},
   "source": [
    "__itermonthdays4(year, month)__ возвращает дни в виде кортежей (год, месяц, день,номер дня(день недели))."
   ]
  },
  {
   "cell_type": "code",
   "execution_count": 115,
   "metadata": {},
   "outputs": [
    {
     "name": "stdout",
     "output_type": "stream",
     "text": [
      "(2019, 9, 30, 0)\n",
      "(2019, 10, 1, 1)\n",
      "(2019, 10, 2, 2)\n",
      "(2019, 10, 3, 3)\n",
      "(2019, 10, 4, 4)\n",
      "(2019, 10, 5, 5)\n",
      "(2019, 10, 6, 6)\n",
      "(2019, 10, 7, 0)\n",
      "(2019, 10, 8, 1)\n",
      "(2019, 10, 9, 2)\n",
      "(2019, 10, 10, 3)\n",
      "(2019, 10, 11, 4)\n",
      "(2019, 10, 12, 5)\n",
      "(2019, 10, 13, 6)\n",
      "(2019, 10, 14, 0)\n",
      "(2019, 10, 15, 1)\n",
      "(2019, 10, 16, 2)\n",
      "(2019, 10, 17, 3)\n",
      "(2019, 10, 18, 4)\n",
      "(2019, 10, 19, 5)\n",
      "(2019, 10, 20, 6)\n",
      "(2019, 10, 21, 0)\n",
      "(2019, 10, 22, 1)\n",
      "(2019, 10, 23, 2)\n",
      "(2019, 10, 24, 3)\n",
      "(2019, 10, 25, 4)\n",
      "(2019, 10, 26, 5)\n",
      "(2019, 10, 27, 6)\n",
      "(2019, 10, 28, 0)\n",
      "(2019, 10, 29, 1)\n",
      "(2019, 10, 30, 2)\n",
      "(2019, 10, 31, 3)\n",
      "(2019, 11, 1, 4)\n",
      "(2019, 11, 2, 5)\n",
      "(2019, 11, 3, 6)\n"
     ]
    }
   ],
   "source": [
    "for day in calend.itermonthdays4(2019, 10):\n",
    "    print(day)"
   ]
  },
  {
   "cell_type": "markdown",
   "metadata": {},
   "source": [
    "__monthdatescalendar(year, month)__ список недель в месяце. Неделя - список из 7 объектов datetime.date."
   ]
  },
  {
   "cell_type": "code",
   "execution_count": 118,
   "metadata": {},
   "outputs": [
    {
     "data": {
      "text/plain": [
       "[[datetime.date(2019, 9, 30),\n",
       "  datetime.date(2019, 10, 1),\n",
       "  datetime.date(2019, 10, 2),\n",
       "  datetime.date(2019, 10, 3),\n",
       "  datetime.date(2019, 10, 4),\n",
       "  datetime.date(2019, 10, 5),\n",
       "  datetime.date(2019, 10, 6)],\n",
       " [datetime.date(2019, 10, 7),\n",
       "  datetime.date(2019, 10, 8),\n",
       "  datetime.date(2019, 10, 9),\n",
       "  datetime.date(2019, 10, 10),\n",
       "  datetime.date(2019, 10, 11),\n",
       "  datetime.date(2019, 10, 12),\n",
       "  datetime.date(2019, 10, 13)],\n",
       " [datetime.date(2019, 10, 14),\n",
       "  datetime.date(2019, 10, 15),\n",
       "  datetime.date(2019, 10, 16),\n",
       "  datetime.date(2019, 10, 17),\n",
       "  datetime.date(2019, 10, 18),\n",
       "  datetime.date(2019, 10, 19),\n",
       "  datetime.date(2019, 10, 20)],\n",
       " [datetime.date(2019, 10, 21),\n",
       "  datetime.date(2019, 10, 22),\n",
       "  datetime.date(2019, 10, 23),\n",
       "  datetime.date(2019, 10, 24),\n",
       "  datetime.date(2019, 10, 25),\n",
       "  datetime.date(2019, 10, 26),\n",
       "  datetime.date(2019, 10, 27)],\n",
       " [datetime.date(2019, 10, 28),\n",
       "  datetime.date(2019, 10, 29),\n",
       "  datetime.date(2019, 10, 30),\n",
       "  datetime.date(2019, 10, 31),\n",
       "  datetime.date(2019, 11, 1),\n",
       "  datetime.date(2019, 11, 2),\n",
       "  datetime.date(2019, 11, 3)]]"
      ]
     },
     "execution_count": 118,
     "metadata": {},
     "output_type": "execute_result"
    }
   ],
   "source": [
    "calend.monthdatescalendar(2019, 10)"
   ]
  },
  {
   "cell_type": "markdown",
   "metadata": {},
   "source": [
    "__monthdays2calendar(year, month)__ как monthdatescalendar, но объекты - кортежи (номер дня, номер дня недели)."
   ]
  },
  {
   "cell_type": "code",
   "execution_count": 119,
   "metadata": {},
   "outputs": [
    {
     "data": {
      "text/plain": [
       "[[(0, 0), (1, 1), (2, 2), (3, 3), (4, 4), (5, 5), (6, 6)],\n",
       " [(7, 0), (8, 1), (9, 2), (10, 3), (11, 4), (12, 5), (13, 6)],\n",
       " [(14, 0), (15, 1), (16, 2), (17, 3), (18, 4), (19, 5), (20, 6)],\n",
       " [(21, 0), (22, 1), (23, 2), (24, 3), (25, 4), (26, 5), (27, 6)],\n",
       " [(28, 0), (29, 1), (30, 2), (31, 3), (0, 4), (0, 5), (0, 6)]]"
      ]
     },
     "execution_count": 119,
     "metadata": {},
     "output_type": "execute_result"
    }
   ],
   "source": [
    "calend.monthdays2calendar(2019, 10)"
   ]
  },
  {
   "cell_type": "markdown",
   "metadata": {},
   "source": [
    "__monthdayscalendar(year, month)__  - как monthdatescalendar, но объекты - номера дней."
   ]
  },
  {
   "cell_type": "code",
   "execution_count": 120,
   "metadata": {},
   "outputs": [
    {
     "data": {
      "text/plain": [
       "[[0, 1, 2, 3, 4, 5, 6],\n",
       " [7, 8, 9, 10, 11, 12, 13],\n",
       " [14, 15, 16, 17, 18, 19, 20],\n",
       " [21, 22, 23, 24, 25, 26, 27],\n",
       " [28, 29, 30, 31, 0, 0, 0]]"
      ]
     },
     "execution_count": 120,
     "metadata": {},
     "output_type": "execute_result"
    }
   ],
   "source": [
    "calend.monthdayscalendar(2019, 10)"
   ]
  },
  {
   "cell_type": "markdown",
   "metadata": {},
   "source": [
    "__yeardatescalendar(year, width=3)__ используется для подготовки данных за указанный год к форматированию. Выводит список, состоящий из рядов месяцев, каждый ряд содержит количество месяцев до width."
   ]
  },
  {
   "cell_type": "markdown",
   "metadata": {},
   "source": [
    "__yeardays2calendar(year, width=3)__ - как yeardatescalendar, но дни представлены в виде кортежей."
   ]
  },
  {
   "cell_type": "markdown",
   "metadata": {},
   "source": [
    "__yeardayscalendar(year, width=3)__ - как yeardatescalendar, но дни представлены в виде их номеров."
   ]
  },
  {
   "cell_type": "code",
   "execution_count": 130,
   "metadata": {},
   "outputs": [
    {
     "data": {
      "text/plain": [
       "[[[[0, 1, 2, 3, 4, 5, 6],\n",
       "   [7, 8, 9, 10, 11, 12, 13],\n",
       "   [14, 15, 16, 17, 18, 19, 20],\n",
       "   [21, 22, 23, 24, 25, 26, 27],\n",
       "   [28, 29, 30, 31, 0, 0, 0]],\n",
       "  [[0, 0, 0, 0, 1, 2, 3],\n",
       "   [4, 5, 6, 7, 8, 9, 10],\n",
       "   [11, 12, 13, 14, 15, 16, 17],\n",
       "   [18, 19, 20, 21, 22, 23, 24],\n",
       "   [25, 26, 27, 28, 0, 0, 0]],\n",
       "  [[0, 0, 0, 0, 1, 2, 3],\n",
       "   [4, 5, 6, 7, 8, 9, 10],\n",
       "   [11, 12, 13, 14, 15, 16, 17],\n",
       "   [18, 19, 20, 21, 22, 23, 24],\n",
       "   [25, 26, 27, 28, 29, 30, 31]]],\n",
       " [[[1, 2, 3, 4, 5, 6, 7],\n",
       "   [8, 9, 10, 11, 12, 13, 14],\n",
       "   [15, 16, 17, 18, 19, 20, 21],\n",
       "   [22, 23, 24, 25, 26, 27, 28],\n",
       "   [29, 30, 0, 0, 0, 0, 0]],\n",
       "  [[0, 0, 1, 2, 3, 4, 5],\n",
       "   [6, 7, 8, 9, 10, 11, 12],\n",
       "   [13, 14, 15, 16, 17, 18, 19],\n",
       "   [20, 21, 22, 23, 24, 25, 26],\n",
       "   [27, 28, 29, 30, 31, 0, 0]],\n",
       "  [[0, 0, 0, 0, 0, 1, 2],\n",
       "   [3, 4, 5, 6, 7, 8, 9],\n",
       "   [10, 11, 12, 13, 14, 15, 16],\n",
       "   [17, 18, 19, 20, 21, 22, 23],\n",
       "   [24, 25, 26, 27, 28, 29, 30]]],\n",
       " [[[1, 2, 3, 4, 5, 6, 7],\n",
       "   [8, 9, 10, 11, 12, 13, 14],\n",
       "   [15, 16, 17, 18, 19, 20, 21],\n",
       "   [22, 23, 24, 25, 26, 27, 28],\n",
       "   [29, 30, 31, 0, 0, 0, 0]],\n",
       "  [[0, 0, 0, 1, 2, 3, 4],\n",
       "   [5, 6, 7, 8, 9, 10, 11],\n",
       "   [12, 13, 14, 15, 16, 17, 18],\n",
       "   [19, 20, 21, 22, 23, 24, 25],\n",
       "   [26, 27, 28, 29, 30, 31, 0]],\n",
       "  [[0, 0, 0, 0, 0, 0, 1],\n",
       "   [2, 3, 4, 5, 6, 7, 8],\n",
       "   [9, 10, 11, 12, 13, 14, 15],\n",
       "   [16, 17, 18, 19, 20, 21, 22],\n",
       "   [23, 24, 25, 26, 27, 28, 29],\n",
       "   [30, 0, 0, 0, 0, 0, 0]]],\n",
       " [[[0, 1, 2, 3, 4, 5, 6],\n",
       "   [7, 8, 9, 10, 11, 12, 13],\n",
       "   [14, 15, 16, 17, 18, 19, 20],\n",
       "   [21, 22, 23, 24, 25, 26, 27],\n",
       "   [28, 29, 30, 31, 0, 0, 0]],\n",
       "  [[0, 0, 0, 0, 1, 2, 3],\n",
       "   [4, 5, 6, 7, 8, 9, 10],\n",
       "   [11, 12, 13, 14, 15, 16, 17],\n",
       "   [18, 19, 20, 21, 22, 23, 24],\n",
       "   [25, 26, 27, 28, 29, 30, 0]],\n",
       "  [[0, 0, 0, 0, 0, 0, 1],\n",
       "   [2, 3, 4, 5, 6, 7, 8],\n",
       "   [9, 10, 11, 12, 13, 14, 15],\n",
       "   [16, 17, 18, 19, 20, 21, 22],\n",
       "   [23, 24, 25, 26, 27, 28, 29],\n",
       "   [30, 31, 0, 0, 0, 0, 0]]]]"
      ]
     },
     "execution_count": 130,
     "metadata": {},
     "output_type": "execute_result"
    }
   ],
   "source": [
    "calend.yeardayscalendar(2019, 3)"
   ]
  },
  {
   "cell_type": "markdown",
   "metadata": {},
   "source": [
    "__calendar.TextCalendar(firstweekday=0)__ - класс для генерации текстового календаря.\n"
   ]
  },
  {
   "cell_type": "code",
   "execution_count": 131,
   "metadata": {},
   "outputs": [],
   "source": [
    "calend2=calendar.TextCalendar(firstweekday=0)"
   ]
  },
  {
   "cell_type": "markdown",
   "metadata": {},
   "source": [
    "### Методы"
   ]
  },
  {
   "cell_type": "markdown",
   "metadata": {},
   "source": [
    "__formatmonth(theyear, themonth, w=0, l=0)__ - возвращает календарь на месяц в виде строки, с шириной колонки w и высотой l."
   ]
  },
  {
   "cell_type": "code",
   "execution_count": 134,
   "metadata": {},
   "outputs": [
    {
     "data": {
      "text/plain": [
       "'    October 2020\\nMo Tu We Th Fr Sa Su\\n          1  2  3  4\\n 5  6  7  8  9 10 11\\n12 13 14 15 16 17 18\\n19 20 21 22 23 24 25\\n26 27 28 29 30 31\\n'"
      ]
     },
     "execution_count": 134,
     "metadata": {},
     "output_type": "execute_result"
    }
   ],
   "source": [
    "calend2.formatmonth(2020, 10 , w=0, l=0)"
   ]
  },
  {
   "cell_type": "markdown",
   "metadata": {},
   "source": [
    "__prmonth(theyear, themonth, w=0, l=0)__ - печатает календарь на месяц."
   ]
  },
  {
   "cell_type": "code",
   "execution_count": 135,
   "metadata": {},
   "outputs": [
    {
     "name": "stdout",
     "output_type": "stream",
     "text": [
      "    October 2020\n",
      "Mo Tu We Th Fr Sa Su\n",
      "          1  2  3  4\n",
      " 5  6  7  8  9 10 11\n",
      "12 13 14 15 16 17 18\n",
      "19 20 21 22 23 24 25\n",
      "26 27 28 29 30 31\n"
     ]
    }
   ],
   "source": [
    "calend2.prmonth(2020, 10 , w=0, l=0)"
   ]
  },
  {
   "cell_type": "markdown",
   "metadata": {},
   "source": [
    "__formatyear(theyear, w=2, l=1, c=6, m=3)__ - возвращает календарь на год; из m колонок, шириной даты w, высотой недели l и количеством пробелов между месяцами c."
   ]
  },
  {
   "cell_type": "code",
   "execution_count": 136,
   "metadata": {},
   "outputs": [
    {
     "data": {
      "text/plain": [
       "'                                  2020\\n\\n      January                   February                   March\\nMo Tu We Th Fr Sa Su      Mo Tu We Th Fr Sa Su      Mo Tu We Th Fr Sa Su\\n       1  2  3  4  5                      1  2                         1\\n 6  7  8  9 10 11 12       3  4  5  6  7  8  9       2  3  4  5  6  7  8\\n13 14 15 16 17 18 19      10 11 12 13 14 15 16       9 10 11 12 13 14 15\\n20 21 22 23 24 25 26      17 18 19 20 21 22 23      16 17 18 19 20 21 22\\n27 28 29 30 31            24 25 26 27 28 29         23 24 25 26 27 28 29\\n                                                    30 31\\n\\n       April                      May                       June\\nMo Tu We Th Fr Sa Su      Mo Tu We Th Fr Sa Su      Mo Tu We Th Fr Sa Su\\n       1  2  3  4  5                   1  2  3       1  2  3  4  5  6  7\\n 6  7  8  9 10 11 12       4  5  6  7  8  9 10       8  9 10 11 12 13 14\\n13 14 15 16 17 18 19      11 12 13 14 15 16 17      15 16 17 18 19 20 21\\n20 21 22 23 24 25 26      18 19 20 21 22 23 24      22 23 24 25 26 27 28\\n27 28 29 30               25 26 27 28 29 30 31      29 30\\n\\n        July                     August                  September\\nMo Tu We Th Fr Sa Su      Mo Tu We Th Fr Sa Su      Mo Tu We Th Fr Sa Su\\n       1  2  3  4  5                      1  2          1  2  3  4  5  6\\n 6  7  8  9 10 11 12       3  4  5  6  7  8  9       7  8  9 10 11 12 13\\n13 14 15 16 17 18 19      10 11 12 13 14 15 16      14 15 16 17 18 19 20\\n20 21 22 23 24 25 26      17 18 19 20 21 22 23      21 22 23 24 25 26 27\\n27 28 29 30 31            24 25 26 27 28 29 30      28 29 30\\n                          31\\n\\n      October                   November                  December\\nMo Tu We Th Fr Sa Su      Mo Tu We Th Fr Sa Su      Mo Tu We Th Fr Sa Su\\n          1  2  3  4                         1          1  2  3  4  5  6\\n 5  6  7  8  9 10 11       2  3  4  5  6  7  8       7  8  9 10 11 12 13\\n12 13 14 15 16 17 18       9 10 11 12 13 14 15      14 15 16 17 18 19 20\\n19 20 21 22 23 24 25      16 17 18 19 20 21 22      21 22 23 24 25 26 27\\n26 27 28 29 30 31         23 24 25 26 27 28 29      28 29 30 31\\n                          30\\n'"
      ]
     },
     "execution_count": 136,
     "metadata": {},
     "output_type": "execute_result"
    }
   ],
   "source": [
    "calend2.formatyear(2020, w=2, l=1, c=6, m=3)"
   ]
  },
  {
   "cell_type": "markdown",
   "metadata": {},
   "source": [
    "__pryear(theyear, w=2, l=1, c=6, m=3)__ - печатает календарь на год."
   ]
  },
  {
   "cell_type": "code",
   "execution_count": 137,
   "metadata": {},
   "outputs": [
    {
     "name": "stdout",
     "output_type": "stream",
     "text": [
      "                                  2020\n",
      "\n",
      "      January                   February                   March\n",
      "Mo Tu We Th Fr Sa Su      Mo Tu We Th Fr Sa Su      Mo Tu We Th Fr Sa Su\n",
      "       1  2  3  4  5                      1  2                         1\n",
      " 6  7  8  9 10 11 12       3  4  5  6  7  8  9       2  3  4  5  6  7  8\n",
      "13 14 15 16 17 18 19      10 11 12 13 14 15 16       9 10 11 12 13 14 15\n",
      "20 21 22 23 24 25 26      17 18 19 20 21 22 23      16 17 18 19 20 21 22\n",
      "27 28 29 30 31            24 25 26 27 28 29         23 24 25 26 27 28 29\n",
      "                                                    30 31\n",
      "\n",
      "       April                      May                       June\n",
      "Mo Tu We Th Fr Sa Su      Mo Tu We Th Fr Sa Su      Mo Tu We Th Fr Sa Su\n",
      "       1  2  3  4  5                   1  2  3       1  2  3  4  5  6  7\n",
      " 6  7  8  9 10 11 12       4  5  6  7  8  9 10       8  9 10 11 12 13 14\n",
      "13 14 15 16 17 18 19      11 12 13 14 15 16 17      15 16 17 18 19 20 21\n",
      "20 21 22 23 24 25 26      18 19 20 21 22 23 24      22 23 24 25 26 27 28\n",
      "27 28 29 30               25 26 27 28 29 30 31      29 30\n",
      "\n",
      "        July                     August                  September\n",
      "Mo Tu We Th Fr Sa Su      Mo Tu We Th Fr Sa Su      Mo Tu We Th Fr Sa Su\n",
      "       1  2  3  4  5                      1  2          1  2  3  4  5  6\n",
      " 6  7  8  9 10 11 12       3  4  5  6  7  8  9       7  8  9 10 11 12 13\n",
      "13 14 15 16 17 18 19      10 11 12 13 14 15 16      14 15 16 17 18 19 20\n",
      "20 21 22 23 24 25 26      17 18 19 20 21 22 23      21 22 23 24 25 26 27\n",
      "27 28 29 30 31            24 25 26 27 28 29 30      28 29 30\n",
      "                          31\n",
      "\n",
      "      October                   November                  December\n",
      "Mo Tu We Th Fr Sa Su      Mo Tu We Th Fr Sa Su      Mo Tu We Th Fr Sa Su\n",
      "          1  2  3  4                         1          1  2  3  4  5  6\n",
      " 5  6  7  8  9 10 11       2  3  4  5  6  7  8       7  8  9 10 11 12 13\n",
      "12 13 14 15 16 17 18       9 10 11 12 13 14 15      14 15 16 17 18 19 20\n",
      "19 20 21 22 23 24 25      16 17 18 19 20 21 22      21 22 23 24 25 26 27\n",
      "26 27 28 29 30 31         23 24 25 26 27 28 29      28 29 30 31\n",
      "                          30\n"
     ]
    }
   ],
   "source": [
    "calend2.pryear(2020, w=2, l=1, c=6, m=3)"
   ]
  },
  {
   "cell_type": "markdown",
   "metadata": {},
   "source": [
    "__calendar.HTMLCalendar(firstweekday=0)__ - класс для генерации HTML календаря."
   ]
  },
  {
   "cell_type": "code",
   "execution_count": 138,
   "metadata": {},
   "outputs": [],
   "source": [
    "calend3=calendar.HTMLCalendar(firstweekday=0) "
   ]
  },
  {
   "cell_type": "markdown",
   "metadata": {},
   "source": [
    "### Методы"
   ]
  },
  {
   "cell_type": "markdown",
   "metadata": {},
   "source": [
    "__formatmonth(theyear, themonth, withyear=True)__ - календарь на месяц в виде HTML таблицы. Если withyear True, номер года будет включен в заголовок."
   ]
  },
  {
   "cell_type": "code",
   "execution_count": 140,
   "metadata": {},
   "outputs": [],
   "source": [
    "a=calend3.formatmonth(2020, 10, withyear=True)\n",
    "Html_file= open(\"present.html\",\"w\")\n",
    "Html_file.write(a)\n",
    "Html_file.close()"
   ]
  },
  {
   "cell_type": "markdown",
   "metadata": {},
   "source": [
    "__formatyear(theyear, width=3)__ - календарь на год в виде HTML таблицы. width - количество месяцев в ряду."
   ]
  },
  {
   "cell_type": "code",
   "execution_count": 141,
   "metadata": {},
   "outputs": [],
   "source": [
    "c=calend3.formatyear(2020, width=3)\n",
    "Html_file= open(\"present1.html\",\"w\")\n",
    "Html_file.write(c)\n",
    "Html_file.close()"
   ]
  },
  {
   "cell_type": "markdown",
   "metadata": {},
   "source": [
    "__formatyearpage(theyear, width=3, css=\"calendar.css\", encoding=None)__ - календарь на год в виде полноценной HTML страницы, с подключением файла css, и в кодировке encoding."
   ]
  },
  {
   "cell_type": "code",
   "execution_count": 147,
   "metadata": {},
   "outputs": [],
   "source": [
    "calend3.formatyearpage(2020, width=3, css=\"calendar.css\", encoding=None);"
   ]
  },
  {
   "cell_type": "markdown",
   "metadata": {},
   "source": [
    "__calendar.LocaleTextCalendar(firstweekday=0, locale=None)__ - позволяет создать текстовый календарь с названиями на родном языке."
   ]
  },
  {
   "cell_type": "code",
   "execution_count": 150,
   "metadata": {},
   "outputs": [],
   "source": [
    "calend4=calendar.LocaleTextCalendar(firstweekday=0, locale='Russian_Russia')"
   ]
  },
  {
   "cell_type": "code",
   "execution_count": 158,
   "metadata": {},
   "outputs": [
    {
     "data": {
      "text/plain": [
       "'                                             2020\\n\\n           Январь                          Февраль                            Март\\n Пн  Вт  Ср  Чт  Пт  Сб  Вс       Пн  Вт  Ср  Чт  Пт  Сб  Вс       Пн  Вт  Ср  Чт  Пт  Сб  Вс\\n          1   2   3   4   5                            1   2                                1\\n  6   7   8   9  10  11  12        3   4   5   6   7   8   9        2   3   4   5   6   7   8\\n 13  14  15  16  17  18  19       10  11  12  13  14  15  16        9  10  11  12  13  14  15\\n 20  21  22  23  24  25  26       17  18  19  20  21  22  23       16  17  18  19  20  21  22\\n 27  28  29  30  31               24  25  26  27  28  29           23  24  25  26  27  28  29\\n                                                                   30  31\\n\\n           Апрель                            Май                              Июнь\\n Пн  Вт  Ср  Чт  Пт  Сб  Вс       Пн  Вт  Ср  Чт  Пт  Сб  Вс       Пн  Вт  Ср  Чт  Пт  Сб  Вс\\n          1   2   3   4   5                        1   2   3        1   2   3   4   5   6   7\\n  6   7   8   9  10  11  12        4   5   6   7   8   9  10        8   9  10  11  12  13  14\\n 13  14  15  16  17  18  19       11  12  13  14  15  16  17       15  16  17  18  19  20  21\\n 20  21  22  23  24  25  26       18  19  20  21  22  23  24       22  23  24  25  26  27  28\\n 27  28  29  30                   25  26  27  28  29  30  31       29  30\\n\\n            Июль                            Август                          Сентябрь\\n Пн  Вт  Ср  Чт  Пт  Сб  Вс       Пн  Вт  Ср  Чт  Пт  Сб  Вс       Пн  Вт  Ср  Чт  Пт  Сб  Вс\\n          1   2   3   4   5                            1   2            1   2   3   4   5   6\\n  6   7   8   9  10  11  12        3   4   5   6   7   8   9        7   8   9  10  11  12  13\\n 13  14  15  16  17  18  19       10  11  12  13  14  15  16       14  15  16  17  18  19  20\\n 20  21  22  23  24  25  26       17  18  19  20  21  22  23       21  22  23  24  25  26  27\\n 27  28  29  30  31               24  25  26  27  28  29  30       28  29  30\\n                                  31\\n\\n          Октябрь                           Ноябрь                          Декабрь\\n Пн  Вт  Ср  Чт  Пт  Сб  Вс       Пн  Вт  Ср  Чт  Пт  Сб  Вс       Пн  Вт  Ср  Чт  Пт  Сб  Вс\\n              1   2   3   4                                1            1   2   3   4   5   6\\n  5   6   7   8   9  10  11        2   3   4   5   6   7   8        7   8   9  10  11  12  13\\n 12  13  14  15  16  17  18        9  10  11  12  13  14  15       14  15  16  17  18  19  20\\n 19  20  21  22  23  24  25       16  17  18  19  20  21  22       21  22  23  24  25  26  27\\n 26  27  28  29  30  31           23  24  25  26  27  28  29       28  29  30  31\\n                                  30\\n'"
      ]
     },
     "execution_count": 158,
     "metadata": {},
     "output_type": "execute_result"
    }
   ],
   "source": [
    "c=calend4.formatyear(2020, 3)\n",
    "c"
   ]
  },
  {
   "cell_type": "markdown",
   "metadata": {},
   "source": [
    "__calendar.LocaleHTMLCalendar(firstweekday=0, locale=None)__ - позволяет создать HTML календарь с названиями на родном языке."
   ]
  },
  {
   "cell_type": "code",
   "execution_count": 159,
   "metadata": {},
   "outputs": [],
   "source": [
    "calend5=calendar.LocaleHTMLCalendar(firstweekday=0, locale='Russian_Russia') \n",
    "c=calend5.formatyear(2020, width=3)\n",
    "Html_file= open(\"present2.html\",\"w\")\n",
    "Html_file.write(c)\n",
    "Html_file.close()"
   ]
  },
  {
   "cell_type": "markdown",
   "metadata": {},
   "source": [
    "__setfirstweekday(weekday)__ задает день недели, с которого начинается неделя"
   ]
  },
  {
   "cell_type": "code",
   "execution_count": 166,
   "metadata": {},
   "outputs": [
    {
     "data": {
      "text/plain": [
       "6"
      ]
     },
     "execution_count": 166,
     "metadata": {},
     "output_type": "execute_result"
    }
   ],
   "source": [
    "calendar.setfirstweekday(calendar.SUNDAY)\n",
    "calendar.firstweekday()"
   ]
  },
  {
   "cell_type": "markdown",
   "metadata": {},
   "source": [
    "__calendar.isleap(year)__ выводит True, если год високотный."
   ]
  },
  {
   "cell_type": "code",
   "execution_count": 168,
   "metadata": {},
   "outputs": [
    {
     "data": {
      "text/plain": [
       "True"
      ]
     },
     "execution_count": 168,
     "metadata": {},
     "output_type": "execute_result"
    }
   ],
   "source": [
    "calendar.isleap(2020)"
   ]
  },
  {
   "cell_type": "markdown",
   "metadata": {},
   "source": [
    "__calendar.leapdays(y1, y2)__ выводит количество високостных годов в диапазоне от  y1 до y2."
   ]
  },
  {
   "cell_type": "code",
   "execution_count": 169,
   "metadata": {},
   "outputs": [
    {
     "data": {
      "text/plain": [
       "5"
      ]
     },
     "execution_count": 169,
     "metadata": {},
     "output_type": "execute_result"
    }
   ],
   "source": [
    "calendar.leapdays(2001, 2021)"
   ]
  },
  {
   "cell_type": "markdown",
   "metadata": {},
   "source": [
    "__calendar.weekday(year, month, day)__ выводит день недели (0- понедельник)."
   ]
  },
  {
   "cell_type": "code",
   "execution_count": 171,
   "metadata": {},
   "outputs": [
    {
     "data": {
      "text/plain": [
       "4"
      ]
     },
     "execution_count": 171,
     "metadata": {},
     "output_type": "execute_result"
    }
   ],
   "source": [
    "calendar.weekday(2020, 10, 2)"
   ]
  },
  {
   "cell_type": "markdown",
   "metadata": {},
   "source": [
    "__calendar.weekheader(n)__ выводит название дней недели, n - количество букв."
   ]
  },
  {
   "cell_type": "code",
   "execution_count": 175,
   "metadata": {},
   "outputs": [
    {
     "data": {
      "text/plain": [
       "'Su Mo Tu We Th Fr Sa'"
      ]
     },
     "execution_count": 175,
     "metadata": {},
     "output_type": "execute_result"
    }
   ],
   "source": [
    "calendar.weekheader(2)"
   ]
  },
  {
   "cell_type": "markdown",
   "metadata": {},
   "source": [
    "__calendar.monthrange(year, month)__ возвращает номер первого дня недели и количество дней в месяце."
   ]
  },
  {
   "cell_type": "code",
   "execution_count": 177,
   "metadata": {},
   "outputs": [
    {
     "data": {
      "text/plain": [
       "(3, 31)"
      ]
     },
     "execution_count": 177,
     "metadata": {},
     "output_type": "execute_result"
    }
   ],
   "source": [
    "calendar.monthrange(2020, 10)"
   ]
  },
  {
   "cell_type": "markdown",
   "metadata": {},
   "source": [
    "__calendar.monthcalendar(year, month)__ выводит матрицу, представляющую собой календарь месяца."
   ]
  },
  {
   "cell_type": "code",
   "execution_count": 178,
   "metadata": {},
   "outputs": [
    {
     "data": {
      "text/plain": [
       "[[0, 0, 0, 0, 1, 2, 3],\n",
       " [4, 5, 6, 7, 8, 9, 10],\n",
       " [11, 12, 13, 14, 15, 16, 17],\n",
       " [18, 19, 20, 21, 22, 23, 24],\n",
       " [25, 26, 27, 28, 29, 30, 31]]"
      ]
     },
     "execution_count": 178,
     "metadata": {},
     "output_type": "execute_result"
    }
   ],
   "source": [
    "calendar.monthcalendar(2020, 10)"
   ]
  },
  {
   "cell_type": "markdown",
   "metadata": {},
   "source": [
    "__calendar.calendar(year, w=2, l=1, c=6, m=3)__ выводит календарь на год в виде многострочной строки."
   ]
  },
  {
   "cell_type": "code",
   "execution_count": 180,
   "metadata": {},
   "outputs": [
    {
     "data": {
      "text/plain": [
       "'                                  2020\\n\\n      January                   February                   March\\nSu Mo Tu We Th Fr Sa      Su Mo Tu We Th Fr Sa      Su Mo Tu We Th Fr Sa\\n          1  2  3  4                         1       1  2  3  4  5  6  7\\n 5  6  7  8  9 10 11       2  3  4  5  6  7  8       8  9 10 11 12 13 14\\n12 13 14 15 16 17 18       9 10 11 12 13 14 15      15 16 17 18 19 20 21\\n19 20 21 22 23 24 25      16 17 18 19 20 21 22      22 23 24 25 26 27 28\\n26 27 28 29 30 31         23 24 25 26 27 28 29      29 30 31\\n\\n       April                      May                       June\\nSu Mo Tu We Th Fr Sa      Su Mo Tu We Th Fr Sa      Su Mo Tu We Th Fr Sa\\n          1  2  3  4                      1  2          1  2  3  4  5  6\\n 5  6  7  8  9 10 11       3  4  5  6  7  8  9       7  8  9 10 11 12 13\\n12 13 14 15 16 17 18      10 11 12 13 14 15 16      14 15 16 17 18 19 20\\n19 20 21 22 23 24 25      17 18 19 20 21 22 23      21 22 23 24 25 26 27\\n26 27 28 29 30            24 25 26 27 28 29 30      28 29 30\\n                          31\\n\\n        July                     August                  September\\nSu Mo Tu We Th Fr Sa      Su Mo Tu We Th Fr Sa      Su Mo Tu We Th Fr Sa\\n          1  2  3  4                         1             1  2  3  4  5\\n 5  6  7  8  9 10 11       2  3  4  5  6  7  8       6  7  8  9 10 11 12\\n12 13 14 15 16 17 18       9 10 11 12 13 14 15      13 14 15 16 17 18 19\\n19 20 21 22 23 24 25      16 17 18 19 20 21 22      20 21 22 23 24 25 26\\n26 27 28 29 30 31         23 24 25 26 27 28 29      27 28 29 30\\n                          30 31\\n\\n      October                   November                  December\\nSu Mo Tu We Th Fr Sa      Su Mo Tu We Th Fr Sa      Su Mo Tu We Th Fr Sa\\n             1  2  3       1  2  3  4  5  6  7             1  2  3  4  5\\n 4  5  6  7  8  9 10       8  9 10 11 12 13 14       6  7  8  9 10 11 12\\n11 12 13 14 15 16 17      15 16 17 18 19 20 21      13 14 15 16 17 18 19\\n18 19 20 21 22 23 24      22 23 24 25 26 27 28      20 21 22 23 24 25 26\\n25 26 27 28 29 30 31      29 30                     27 28 29 30 31\\n'"
      ]
     },
     "execution_count": 180,
     "metadata": {},
     "output_type": "execute_result"
    }
   ],
   "source": [
    "calendar.calendar(2020, w=2, l=1, c=6, m=3)"
   ]
  },
  {
   "cell_type": "markdown",
   "metadata": {},
   "source": [
    "__timegm(tuple)__ обратна  time.gmtime()"
   ]
  },
  {
   "cell_type": "code",
   "execution_count": 186,
   "metadata": {},
   "outputs": [
    {
     "data": {
      "text/plain": [
       "1575729030"
      ]
     },
     "execution_count": 186,
     "metadata": {},
     "output_type": "execute_result"
    }
   ],
   "source": [
    "calendar.timegm((2019, 12, 7, 14, 30, 30, 5, 341, 0))"
   ]
  },
  {
   "cell_type": "markdown",
   "metadata": {},
   "source": [
    "## Задание"
   ]
  },
  {
   "cell_type": "markdown",
   "metadata": {},
   "source": [
    "__При помощи модуля calendar вывести календарь на 2021 год в виде HTML таблицы в файле под названием \"my_calendar\". А также выяснить, является ли 2021 високостным.__"
   ]
  },
  {
   "cell_type": "code",
   "execution_count": null,
   "metadata": {},
   "outputs": [],
   "source": []
  }
 ],
 "metadata": {
  "kernelspec": {
   "display_name": "Python 3",
   "language": "python",
   "name": "python3"
  },
  "language_info": {
   "codemirror_mode": {
    "name": "ipython",
    "version": 3
   },
   "file_extension": ".py",
   "mimetype": "text/x-python",
   "name": "python",
   "nbconvert_exporter": "python",
   "pygments_lexer": "ipython3",
   "version": "3.8.5"
  }
 },
 "nbformat": 4,
 "nbformat_minor": 4
}
